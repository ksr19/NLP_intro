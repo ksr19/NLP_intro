{
 "cells": [
  {
   "cell_type": "markdown",
   "id": "529f53c6",
   "metadata": {},
   "source": [
    "## качаем данные"
   ]
  },
  {
   "cell_type": "code",
   "execution_count": 2,
   "id": "4f69cffd",
   "metadata": {},
   "outputs": [
    {
     "name": "stdout",
     "output_type": "stream",
     "text": [
      "Collecting bs4\n",
      "  Using cached bs4-0.0.1.tar.gz (1.1 kB)\n",
      "  Preparing metadata (setup.py) ... \u001b[?25ldone\n",
      "\u001b[?25hCollecting beautifulsoup4\n",
      "  Downloading beautifulsoup4-4.11.1-py3-none-any.whl (128 kB)\n",
      "\u001b[2K     \u001b[90m━━━━━━━━━━━━━━━━━━━━━━━━━━━━━━━━━━━━━━━\u001b[0m \u001b[32m128.2/128.2 kB\u001b[0m \u001b[31m1.6 MB/s\u001b[0m eta \u001b[36m0:00:00\u001b[0ma \u001b[36m0:00:01\u001b[0m\n",
      "\u001b[?25hCollecting soupsieve>1.2\n",
      "  Downloading soupsieve-2.3.2.post1-py3-none-any.whl (37 kB)\n",
      "Building wheels for collected packages: bs4\n",
      "  Building wheel for bs4 (setup.py) ... \u001b[?25ldone\n",
      "\u001b[?25h  Created wheel for bs4: filename=bs4-0.0.1-py3-none-any.whl size=1257 sha256=a5fb47b782c1281189b2ccaf604495f3a8380a270bf7abb4dd41c02351af0e4f\n",
      "  Stored in directory: /Users/rk/Library/Caches/pip/wheels/73/2b/cb/099980278a0c9a3e57ff1a89875ec07bfa0b6fcbebb9a8cad3\n",
      "Successfully built bs4\n",
      "Installing collected packages: soupsieve, beautifulsoup4, bs4\n",
      "Successfully installed beautifulsoup4-4.11.1 bs4-0.0.1 soupsieve-2.3.2.post1\n",
      "\n",
      "\u001b[1m[\u001b[0m\u001b[34;49mnotice\u001b[0m\u001b[1;39;49m]\u001b[0m\u001b[39;49m A new release of pip available: \u001b[0m\u001b[31;49m22.2.1\u001b[0m\u001b[39;49m -> \u001b[0m\u001b[32;49m22.2.2\u001b[0m\n",
      "\u001b[1m[\u001b[0m\u001b[34;49mnotice\u001b[0m\u001b[1;39;49m]\u001b[0m\u001b[39;49m To update, run: \u001b[0m\u001b[32;49mpython3.9 -m pip install --upgrade pip\u001b[0m\n"
     ]
    }
   ],
   "source": [
    "!pip install bs4"
   ]
  },
  {
   "cell_type": "code",
   "execution_count": 3,
   "id": "83d4044a",
   "metadata": {},
   "outputs": [],
   "source": [
    "import requests\n",
    "from bs4 import BeautifulSoup \n",
    "import time\n",
    "from urllib.parse import urlparse, urljoin\n",
    "from tqdm.notebook import tqdm"
   ]
  },
  {
   "cell_type": "code",
   "execution_count": 5,
   "id": "a920bc9b",
   "metadata": {},
   "outputs": [
    {
     "data": {
      "application/vnd.jupyter.widget-view+json": {
       "model_id": "b82a84456d0b4126ad738766fa85755f",
       "version_major": 2,
       "version_minor": 0
      },
      "text/plain": [
       "Pages:   0%|          | 0/599 [00:00<?, ?it/s]"
      ]
     },
     "metadata": {},
     "output_type": "display_data"
    }
   ],
   "source": [
    "## найти id каждого вопроса на страницах\n",
    "page = 1\n",
    "main_url = 'https://zpp.rospotrebnadzor.ru/Forum/Appeals/AjaxindexList?page={page}&searchtext=&categories=[]'\n",
    "\n",
    "def ids_from_page(soup):\n",
    "    return [i.get('href') for i  in soup.findAll('a', {'class':'appeal-title-link'})]\n",
    "    \n",
    "urls = []\n",
    "for page in tqdm(range(1, 600), desc='Pages'):\n",
    "    time.sleep(0.5)\n",
    "    res = requests.get(main_url.format(page=page))  \n",
    "    soup = BeautifulSoup(res.text)\n",
    "    urls.extend(ids_from_page(soup))"
   ]
  },
  {
   "cell_type": "code",
   "execution_count": 6,
   "id": "29cf2c0d",
   "metadata": {},
   "outputs": [
    {
     "data": {
      "application/vnd.jupyter.widget-view+json": {
       "model_id": "0c6d475270bc4bbfa6f49ab1e6e9a5ec",
       "version_major": 2,
       "version_minor": 0
      },
      "text/plain": [
       "Pages:   0%|          | 0/2995 [00:00<?, ?it/s]"
      ]
     },
     "metadata": {},
     "output_type": "display_data"
    }
   ],
   "source": [
    "## имея id запросов достанем тексты на страницах\n",
    "domain = 'https://zpp.rospotrebnadzor.ru'\n",
    "\n",
    "def get_text_page_question(soup):\n",
    "    return soup.findAll('p', {'class':'appeal-details-message'})[0].text\n",
    "def get_text_page_answer(soup):\n",
    "    return soup.findAll('p', {'class':'appeal-comments-message'})[0].text\n",
    "\n",
    "question = []\n",
    "answers = []\n",
    "\n",
    "for url in tqdm(urls, desc='Pages'):\n",
    "    time.sleep(0.5)\n",
    "    res = requests.get(urljoin(domain, url))  \n",
    "    soup = BeautifulSoup(res.text)\n",
    "    \n",
    "    question.append(get_text_page_question(soup))\n",
    "    try:\n",
    "        answers.append(get_text_page_answer(soup))\n",
    "    except:\n",
    "        answers.append('No answer')"
   ]
  },
  {
   "cell_type": "code",
   "execution_count": 7,
   "id": "0191a57f",
   "metadata": {},
   "outputs": [
    {
     "name": "stdout",
     "output_type": "stream",
     "text": [
      "Q: Я врач-инфекционист хочу открыть инфекционный кабинет в нежилом здании. Подскажите какие требования необходимо соблюсти помимо отдельного входа и туалета.\n",
      "\n",
      "A: Здравствуйте, Елена! При осуществлении медицинской деятельности и открытии инфекционного кабинета необходимо соблюдать следующие требования санитарного законодательства: \r\n",
      "- СанПиН 3.3686-21 \"Санитарно-эпидемиологические требования по профилактике инфекционных болезней\", утвержденных постановлением Главного государственного санитарного врача РФ от 28.01.2021 N 4;\r\n",
      " - СП 2.1.3678-20 \"Санитарно-эпидемиологические требования к эксплуатации помещений, зданий, сооружений, оборудования и транспорта, а также условиям деятельности хозяйствующих субъектов, осуществляющих продажу товаров, выполнение работ или оказание услуг\", утвержденных постановлением Главного государственного санитарного врача РФ от 24.12.2020 N 44 . \r\n",
      "\r\n",
      "\n"
     ]
    }
   ],
   "source": [
    "## посмотрим, что скачалось\n",
    "N = 2\n",
    "print('Q:', question[N])\n",
    "print()\n",
    "print('A:', answers[N])"
   ]
  },
  {
   "cell_type": "code",
   "execution_count": 11,
   "id": "aaec0d12",
   "metadata": {},
   "outputs": [
    {
     "data": {
      "text/html": [
       "<div>\n",
       "<style scoped>\n",
       "    .dataframe tbody tr th:only-of-type {\n",
       "        vertical-align: middle;\n",
       "    }\n",
       "\n",
       "    .dataframe tbody tr th {\n",
       "        vertical-align: top;\n",
       "    }\n",
       "\n",
       "    .dataframe thead th {\n",
       "        text-align: right;\n",
       "    }\n",
       "</style>\n",
       "<table border=\"1\" class=\"dataframe\">\n",
       "  <thead>\n",
       "    <tr style=\"text-align: right;\">\n",
       "      <th></th>\n",
       "      <th>questions</th>\n",
       "      <th>answers</th>\n",
       "    </tr>\n",
       "  </thead>\n",
       "  <tbody>\n",
       "    <tr>\n",
       "      <th>0</th>\n",
       "      <td>Помогите пожалуйста в расторжении договора с П...</td>\n",
       "      <td>Уважаемый Игорь!\\r\\nВ соответствии с пунктом 4...</td>\n",
       "    </tr>\n",
       "    <tr>\n",
       "      <th>1</th>\n",
       "      <td>Жалоба на детскую поликлинику номер 15, по адр...</td>\n",
       "      <td>Ксения!\\r\\n         Вопросы, поставленные в Ва...</td>\n",
       "    </tr>\n",
       "    <tr>\n",
       "      <th>2</th>\n",
       "      <td>Я врач-инфекционист хочу открыть инфекционный ...</td>\n",
       "      <td>Здравствуйте, Елена! При осуществлении медицин...</td>\n",
       "    </tr>\n",
       "    <tr>\n",
       "      <th>3</th>\n",
       "      <td>Возле подъезда лежат мертвые птицы, УК Наш Гор...</td>\n",
       "      <td>Ольга,добрый день! В Московской области с таки...</td>\n",
       "    </tr>\n",
       "    <tr>\n",
       "      <th>4</th>\n",
       "      <td>Прошу провести проверку по факту размещения ра...</td>\n",
       "      <td>Вячеслав,добрый день! Вам необходимо перенапра...</td>\n",
       "    </tr>\n",
       "  </tbody>\n",
       "</table>\n",
       "</div>"
      ],
      "text/plain": [
       "                                           questions  \\\n",
       "0  Помогите пожалуйста в расторжении договора с П...   \n",
       "1  Жалоба на детскую поликлинику номер 15, по адр...   \n",
       "2  Я врач-инфекционист хочу открыть инфекционный ...   \n",
       "3  Возле подъезда лежат мертвые птицы, УК Наш Гор...   \n",
       "4  Прошу провести проверку по факту размещения ра...   \n",
       "\n",
       "                                             answers  \n",
       "0  Уважаемый Игорь!\\r\\nВ соответствии с пунктом 4...  \n",
       "1  Ксения!\\r\\n         Вопросы, поставленные в Ва...  \n",
       "2  Здравствуйте, Елена! При осуществлении медицин...  \n",
       "3  Ольга,добрый день! В Московской области с таки...  \n",
       "4  Вячеслав,добрый день! Вам необходимо перенапра...  "
      ]
     },
     "execution_count": 11,
     "metadata": {},
     "output_type": "execute_result"
    }
   ],
   "source": [
    "import pandas as pd\n",
    "df = pd.DataFrame(data={'questions': question, 'answers': answers})\n",
    "df.head()"
   ]
  },
  {
   "cell_type": "code",
   "execution_count": 13,
   "id": "2bea19bb",
   "metadata": {},
   "outputs": [
    {
     "data": {
      "text/html": [
       "<div>\n",
       "<style scoped>\n",
       "    .dataframe tbody tr th:only-of-type {\n",
       "        vertical-align: middle;\n",
       "    }\n",
       "\n",
       "    .dataframe tbody tr th {\n",
       "        vertical-align: top;\n",
       "    }\n",
       "\n",
       "    .dataframe thead th {\n",
       "        text-align: right;\n",
       "    }\n",
       "</style>\n",
       "<table border=\"1\" class=\"dataframe\">\n",
       "  <thead>\n",
       "    <tr style=\"text-align: right;\">\n",
       "      <th></th>\n",
       "      <th>questions</th>\n",
       "      <th>answers</th>\n",
       "    </tr>\n",
       "  </thead>\n",
       "  <tbody>\n",
       "    <tr>\n",
       "      <th>2990</th>\n",
       "      <td>Добрый день.\\r\\nПрошу разъяснить - относятся л...</td>\n",
       "      <td>Денис Валерьевич, здравствуйте. Да, предприяти...</td>\n",
       "    </tr>\n",
       "    <tr>\n",
       "      <th>2991</th>\n",
       "      <td>Мной был куплен товар ( робот-пылесос) у ОБЩЕС...</td>\n",
       "      <td>Добрый день! Вами не указано каким путем приоб...</td>\n",
       "    </tr>\n",
       "    <tr>\n",
       "      <th>2992</th>\n",
       "      <td>Вот такое объявление установлено в кофейне Cof...</td>\n",
       "      <td>Уважаемый   Потребитель ! Информация, размещен...</td>\n",
       "    </tr>\n",
       "    <tr>\n",
       "      <th>2993</th>\n",
       "      <td>15.11.2021 и 16.11.2021 года совершала покупку...</td>\n",
       "      <td>Уважаемая Анна!\\r\\n\\r\\n         В целях объект...</td>\n",
       "    </tr>\n",
       "    <tr>\n",
       "      <th>2994</th>\n",
       "      <td>Добрый день! Есть ли ограничения въезда группы...</td>\n",
       "      <td>Уважаемая Ирина! Ограничения на въезд организо...</td>\n",
       "    </tr>\n",
       "  </tbody>\n",
       "</table>\n",
       "</div>"
      ],
      "text/plain": [
       "                                              questions  \\\n",
       "2990  Добрый день.\\r\\nПрошу разъяснить - относятся л...   \n",
       "2991  Мной был куплен товар ( робот-пылесос) у ОБЩЕС...   \n",
       "2992  Вот такое объявление установлено в кофейне Cof...   \n",
       "2993  15.11.2021 и 16.11.2021 года совершала покупку...   \n",
       "2994  Добрый день! Есть ли ограничения въезда группы...   \n",
       "\n",
       "                                                answers  \n",
       "2990  Денис Валерьевич, здравствуйте. Да, предприяти...  \n",
       "2991  Добрый день! Вами не указано каким путем приоб...  \n",
       "2992  Уважаемый   Потребитель ! Информация, размещен...  \n",
       "2993  Уважаемая Анна!\\r\\n\\r\\n         В целях объект...  \n",
       "2994  Уважаемая Ирина! Ограничения на въезд организо...  "
      ]
     },
     "execution_count": 13,
     "metadata": {},
     "output_type": "execute_result"
    }
   ],
   "source": [
    "df.tail()"
   ]
  },
  {
   "cell_type": "code",
   "execution_count": 12,
   "id": "cacf4eeb",
   "metadata": {},
   "outputs": [],
   "source": [
    "df.to_csv('rospotrebnadzor.csv')"
   ]
  },
  {
   "cell_type": "code",
   "execution_count": null,
   "id": "4bb68dc4",
   "metadata": {},
   "outputs": [],
   "source": []
  }
 ],
 "metadata": {
  "kernelspec": {
   "display_name": "Python 3 (ipykernel)",
   "language": "python",
   "name": "python3"
  },
  "language_info": {
   "codemirror_mode": {
    "name": "ipython",
    "version": 3
   },
   "file_extension": ".py",
   "mimetype": "text/x-python",
   "name": "python",
   "nbconvert_exporter": "python",
   "pygments_lexer": "ipython3",
   "version": "3.9.13"
  }
 },
 "nbformat": 4,
 "nbformat_minor": 5
}
