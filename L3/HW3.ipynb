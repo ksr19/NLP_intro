{
  "nbformat": 4,
  "nbformat_minor": 0,
  "metadata": {
    "colab": {
      "name": "HW3.ipynb",
      "provenance": []
    },
    "kernelspec": {
      "name": "python3",
      "display_name": "Python 3"
    },
    "language_info": {
      "name": "python"
    }
  },
  "cells": [
    {
      "cell_type": "markdown",
      "source": [
        "## Домашнее задание 3"
      ],
      "metadata": {
        "id": "0kUVZ-d7dcvx"
      }
    },
    {
      "cell_type": "markdown",
      "source": [
        "### Задача поиск похожих по эмбеддингам\n",
        "Скачиваем датасет\n",
        "\n",
        "!wget https://github.com/ods-ai-ml4sg/proj_news_viz/releases/download/data/gazeta.csv.gz\n",
        "\n",
        "Или данные можно скачать тут https://github.com/IlyaGusev/gazeta\n",
        "\n",
        "Пример работы с ним:\n",
        "\n",
        "\n",
        "```\n",
        "from corus import load_ods_gazeta\n",
        "path = 'gazeta.csv.gz'\n",
        "records = load_ods_gazeta(path)\n",
        "next(records)\n",
        "\n",
        "```\n",
        "\n",
        "\n",
        "что надо сделать:\n",
        "1. на основе word2vec/fasttext реализовать метод поиска ближайших статей (на вход метода должен приходить запрос (какой-то вопрос) и количество вариантов вывода к примеру 5-ть, ваш метод должен возвращать 5-ть ближайших статей к этому запросу)\n",
        "2. Проверить насколько хорошо работают подходы"
      ],
      "metadata": {
        "id": "wkI-RE_4djSR"
      }
    },
    {
      "cell_type": "markdown",
      "source": [
        "## Решение:"
      ],
      "metadata": {
        "id": "_JhzONT3d3_0"
      }
    },
    {
      "cell_type": "markdown",
      "source": [
        "Прежде всего установим и импортируем необходимые библиотеки."
      ],
      "metadata": {
        "id": "Ok28h8bc1tqM"
      }
    },
    {
      "cell_type": "code",
      "source": [
        "!pip install natasha stop_words annoy"
      ],
      "metadata": {
        "colab": {
          "base_uri": "https://localhost:8080/"
        },
        "id": "tGNxqzUlAEA1",
        "outputId": "0969e7e8-5407-40ef-aa40-bba8206d41e1"
      },
      "execution_count": 1,
      "outputs": [
        {
          "output_type": "stream",
          "name": "stdout",
          "text": [
            "Looking in indexes: https://pypi.org/simple, https://us-python.pkg.dev/colab-wheels/public/simple/\n",
            "Requirement already satisfied: natasha in /usr/local/lib/python3.7/dist-packages (1.4.0)\n",
            "Requirement already satisfied: stop_words in /usr/local/lib/python3.7/dist-packages (2018.7.23)\n",
            "Requirement already satisfied: annoy in /usr/local/lib/python3.7/dist-packages (1.17.1)\n",
            "Requirement already satisfied: razdel>=0.5.0 in /usr/local/lib/python3.7/dist-packages (from natasha) (0.5.0)\n",
            "Requirement already satisfied: yargy>=0.14.0 in /usr/local/lib/python3.7/dist-packages (from natasha) (0.15.0)\n",
            "Requirement already satisfied: ipymarkup>=0.8.0 in /usr/local/lib/python3.7/dist-packages (from natasha) (0.9.0)\n",
            "Requirement already satisfied: navec>=0.9.0 in /usr/local/lib/python3.7/dist-packages (from natasha) (0.10.0)\n",
            "Requirement already satisfied: slovnet>=0.3.0 in /usr/local/lib/python3.7/dist-packages (from natasha) (0.5.0)\n",
            "Requirement already satisfied: pymorphy2 in /usr/local/lib/python3.7/dist-packages (from natasha) (0.9.1)\n",
            "Requirement already satisfied: intervaltree>=3 in /usr/local/lib/python3.7/dist-packages (from ipymarkup>=0.8.0->natasha) (3.1.0)\n",
            "Requirement already satisfied: sortedcontainers<3.0,>=2.0 in /usr/local/lib/python3.7/dist-packages (from intervaltree>=3->ipymarkup>=0.8.0->natasha) (2.4.0)\n",
            "Requirement already satisfied: numpy in /usr/local/lib/python3.7/dist-packages (from navec>=0.9.0->natasha) (1.21.6)\n",
            "Requirement already satisfied: dawg-python>=0.7.1 in /usr/local/lib/python3.7/dist-packages (from pymorphy2->natasha) (0.7.2)\n",
            "Requirement already satisfied: docopt>=0.6 in /usr/local/lib/python3.7/dist-packages (from pymorphy2->natasha) (0.6.2)\n",
            "Requirement already satisfied: pymorphy2-dicts-ru<3.0,>=2.4 in /usr/local/lib/python3.7/dist-packages (from pymorphy2->natasha) (2.4.417127.4579844)\n"
          ]
        }
      ]
    },
    {
      "cell_type": "code",
      "source": [
        "import string\n",
        "import pickle\n",
        "import annoy\n",
        "import numpy as np\n",
        "import pandas as pd\n",
        "\n",
        "from pymorphy2 import MorphAnalyzer\n",
        "from stop_words import get_stop_words\n",
        "from gensim.models import Word2Vec, FastText"
      ],
      "metadata": {
        "id": "FY3yJDWx3Ojn"
      },
      "execution_count": 2,
      "outputs": []
    },
    {
      "cell_type": "markdown",
      "source": [
        "Загрузим данные для обучения."
      ],
      "metadata": {
        "id": "GDIk02d02amS"
      }
    },
    {
      "cell_type": "code",
      "execution_count": 3,
      "metadata": {
        "colab": {
          "base_uri": "https://localhost:8080/"
        },
        "id": "nJDKQyE4dSt1",
        "outputId": "39aa12e5-34bb-42f9-d313-f2645cb144e1"
      },
      "outputs": [
        {
          "output_type": "stream",
          "name": "stdout",
          "text": [
            "--2022-08-19 22:28:54--  https://www.dropbox.com/s/cmpfvzxdknkeal4/gazeta_jsonl.tar.gz\n",
            "Resolving www.dropbox.com (www.dropbox.com)... 162.125.4.18, 2620:100:6019:18::a27d:412\n",
            "Connecting to www.dropbox.com (www.dropbox.com)|162.125.4.18|:443... connected.\n",
            "HTTP request sent, awaiting response... 301 Moved Permanently\n",
            "Location: /s/raw/cmpfvzxdknkeal4/gazeta_jsonl.tar.gz [following]\n",
            "--2022-08-19 22:28:54--  https://www.dropbox.com/s/raw/cmpfvzxdknkeal4/gazeta_jsonl.tar.gz\n",
            "Reusing existing connection to www.dropbox.com:443.\n",
            "HTTP request sent, awaiting response... 302 Found\n",
            "Location: https://ucea00831bb84998a9b34f2e3994.dl.dropboxusercontent.com/cd/0/inline/BrUsi-vKiUHRwMnpfPHB9fKVsFwV66zY8zfTyfWf0Ybm2peZmviA2aE_1926Fwvl2ZoXCjnmEwEJuWjRGjzWZCvhiGcyUqWjvPxdefCnNT_ppfwDfsjN1Tzrs_NlTtHYz-iyxNfePL4YrRpE8KDe4Y40fQOLH8wQZzGAUXLEzZSk9g/file# [following]\n",
            "--2022-08-19 22:28:54--  https://ucea00831bb84998a9b34f2e3994.dl.dropboxusercontent.com/cd/0/inline/BrUsi-vKiUHRwMnpfPHB9fKVsFwV66zY8zfTyfWf0Ybm2peZmviA2aE_1926Fwvl2ZoXCjnmEwEJuWjRGjzWZCvhiGcyUqWjvPxdefCnNT_ppfwDfsjN1Tzrs_NlTtHYz-iyxNfePL4YrRpE8KDe4Y40fQOLH8wQZzGAUXLEzZSk9g/file\n",
            "Resolving ucea00831bb84998a9b34f2e3994.dl.dropboxusercontent.com (ucea00831bb84998a9b34f2e3994.dl.dropboxusercontent.com)... 162.125.4.15, 2620:100:601d:15::a27d:50f\n",
            "Connecting to ucea00831bb84998a9b34f2e3994.dl.dropboxusercontent.com (ucea00831bb84998a9b34f2e3994.dl.dropboxusercontent.com)|162.125.4.15|:443... connected.\n",
            "HTTP request sent, awaiting response... 302 Found\n",
            "Location: /cd/0/inline2/BrXNCE6WpR7Qlh0wizUIrAqiWGtzVe-AxmZNnkg06VgsCzFcAPpMvqvMIH-1xt1ckV2Ufl9Ukag-WooOjSZGw-rsuYa3k4j991sLouYd8NtRlFIaLePiVUcZJ-2XY-UGKH7y1NYMUJaefbmwvBAaaasydeTI11fHCwjje51NEJK8GQ0M2-xUpPOIy7f9SsZ2mEdsLR_0qNLolNWlYgY9aCcz1wkQcjuWYFH6_oZUtDfUA3Gy9VbwAF_6GHAMdU2HNBG7kEC56poly7LUpULKe098A0D9dkU-BH6Ydj_uNCv8ItHaojeWYAvcXFyGA5cPB0OHxPiXQJ1Mb1SUFdHZ64HocgoZyMs-Mk_QtA1nlaTPCn-c8fbti16WTfdX36ETdTKQ7hy49Nhub99dgYPmUAvPExcNb5Q48Vn5-dD6RQJZUQ/file [following]\n",
            "--2022-08-19 22:28:55--  https://ucea00831bb84998a9b34f2e3994.dl.dropboxusercontent.com/cd/0/inline2/BrXNCE6WpR7Qlh0wizUIrAqiWGtzVe-AxmZNnkg06VgsCzFcAPpMvqvMIH-1xt1ckV2Ufl9Ukag-WooOjSZGw-rsuYa3k4j991sLouYd8NtRlFIaLePiVUcZJ-2XY-UGKH7y1NYMUJaefbmwvBAaaasydeTI11fHCwjje51NEJK8GQ0M2-xUpPOIy7f9SsZ2mEdsLR_0qNLolNWlYgY9aCcz1wkQcjuWYFH6_oZUtDfUA3Gy9VbwAF_6GHAMdU2HNBG7kEC56poly7LUpULKe098A0D9dkU-BH6Ydj_uNCv8ItHaojeWYAvcXFyGA5cPB0OHxPiXQJ1Mb1SUFdHZ64HocgoZyMs-Mk_QtA1nlaTPCn-c8fbti16WTfdX36ETdTKQ7hy49Nhub99dgYPmUAvPExcNb5Q48Vn5-dD6RQJZUQ/file\n",
            "Reusing existing connection to ucea00831bb84998a9b34f2e3994.dl.dropboxusercontent.com:443.\n",
            "HTTP request sent, awaiting response... 200 OK\n",
            "Length: 158907783 (152M) [application/octet-stream]\n",
            "Saving to: ‘gazeta_jsonl.tar.gz.1’\n",
            "\n",
            "gazeta_jsonl.tar.gz 100%[===================>] 151.55M   114MB/s    in 1.3s    \n",
            "\n",
            "2022-08-19 22:28:57 (114 MB/s) - ‘gazeta_jsonl.tar.gz.1’ saved [158907783/158907783]\n",
            "\n"
          ]
        }
      ],
      "source": [
        "!wget https://www.dropbox.com/s/cmpfvzxdknkeal4/gazeta_jsonl.tar.gz"
      ]
    },
    {
      "cell_type": "code",
      "source": [
        "!tar -xzvf gazeta_jsonl.tar.gz "
      ],
      "metadata": {
        "colab": {
          "base_uri": "https://localhost:8080/"
        },
        "id": "Lis20PO_dev6",
        "outputId": "011f9917-92b1-4703-8702-e6f260ff13a6"
      },
      "execution_count": 4,
      "outputs": [
        {
          "output_type": "stream",
          "name": "stdout",
          "text": [
            "gazeta_train.jsonl\n",
            "gazeta_test.jsonl\n",
            "gazeta_val.jsonl\n"
          ]
        }
      ]
    },
    {
      "cell_type": "markdown",
      "source": [
        "Создадим датафрейм на основе всех доступных данных."
      ],
      "metadata": {
        "id": "EI3cIs-b35tI"
      }
    },
    {
      "cell_type": "code",
      "source": [
        "df_train = pd.read_json(path_or_buf='gazeta_train.jsonl', lines=True)\n",
        "df_val = pd.read_json(path_or_buf='gazeta_val.jsonl', lines=True)\n",
        "df_test = pd.read_json(path_or_buf='gazeta_test.jsonl', lines=True)\n",
        "\n",
        "df = pd.concat([df_train, df_val, df_test], ignore_index=True)\n",
        "df.head()"
      ],
      "metadata": {
        "colab": {
          "base_uri": "https://localhost:8080/",
          "height": 337
        },
        "id": "e2GeHlahfvpy",
        "outputId": "8b5544bd-7a62-41c5-e6d6-58956b60bc48"
      },
      "execution_count": 5,
      "outputs": [
        {
          "output_type": "execute_result",
          "data": {
            "text/plain": [
              "                                                 url  \\\n",
              "0  https://www.gazeta.ru/financial/2011/11/30/385...   \n",
              "1  https://www.gazeta.ru/business/2013/01/24/4939...   \n",
              "2  https://www.gazeta.ru/social/2018/02/06/116393...   \n",
              "3  https://www.gazeta.ru/business/2013/06/21/5388...   \n",
              "4  https://www.gazeta.ru/culture/2014/12/27/a_636...   \n",
              "\n",
              "                                                text  \\\n",
              "0  «По итогам 2011 года чистый отток может состав...   \n",
              "1  Российское подразделение интернет-корпорации G...   \n",
              "2  Басманный районный суд Москвы вечером 6 феврал...   \n",
              "3  Как повлияло вступление в ВТО на конкурентносп...   \n",
              "4  К третьему сезону «Голос» на Первом канале ста...   \n",
              "\n",
              "                                         title  \\\n",
              "0               Прогноз не успевает за оттоком   \n",
              "1                        Google закончил поиск   \n",
              "2  «Фигуранты дела могут давить на свидетелей»   \n",
              "3  «С последних традиционно «отжимают» больше»   \n",
              "4                  Третий «Голос» за Градского   \n",
              "\n",
              "                                             summary                date  \n",
              "0  В 2011 году из России уйдет $80 млрд, считают ... 2011-11-30 18:33:39  \n",
              "1  Юлия Соловьева, экс-директор холдинга «Профмед... 2013-01-24 18:20:09  \n",
              "2  Суд арестовал на два месяца четверых экс-чинов... 2018-02-06 21:21:14  \n",
              "3  Мнения предпринимателей по поводу вступления в... 2013-06-21 17:43:50  \n",
              "4  На Первом канале завершился третий сезон шоу «... 2014-12-27 01:10:01  "
            ],
            "text/html": [
              "\n",
              "  <div id=\"df-a5ac0c65-590f-4fa7-bc04-83c81e469e66\">\n",
              "    <div class=\"colab-df-container\">\n",
              "      <div>\n",
              "<style scoped>\n",
              "    .dataframe tbody tr th:only-of-type {\n",
              "        vertical-align: middle;\n",
              "    }\n",
              "\n",
              "    .dataframe tbody tr th {\n",
              "        vertical-align: top;\n",
              "    }\n",
              "\n",
              "    .dataframe thead th {\n",
              "        text-align: right;\n",
              "    }\n",
              "</style>\n",
              "<table border=\"1\" class=\"dataframe\">\n",
              "  <thead>\n",
              "    <tr style=\"text-align: right;\">\n",
              "      <th></th>\n",
              "      <th>url</th>\n",
              "      <th>text</th>\n",
              "      <th>title</th>\n",
              "      <th>summary</th>\n",
              "      <th>date</th>\n",
              "    </tr>\n",
              "  </thead>\n",
              "  <tbody>\n",
              "    <tr>\n",
              "      <th>0</th>\n",
              "      <td>https://www.gazeta.ru/financial/2011/11/30/385...</td>\n",
              "      <td>«По итогам 2011 года чистый отток может состав...</td>\n",
              "      <td>Прогноз не успевает за оттоком</td>\n",
              "      <td>В 2011 году из России уйдет $80 млрд, считают ...</td>\n",
              "      <td>2011-11-30 18:33:39</td>\n",
              "    </tr>\n",
              "    <tr>\n",
              "      <th>1</th>\n",
              "      <td>https://www.gazeta.ru/business/2013/01/24/4939...</td>\n",
              "      <td>Российское подразделение интернет-корпорации G...</td>\n",
              "      <td>Google закончил поиск</td>\n",
              "      <td>Юлия Соловьева, экс-директор холдинга «Профмед...</td>\n",
              "      <td>2013-01-24 18:20:09</td>\n",
              "    </tr>\n",
              "    <tr>\n",
              "      <th>2</th>\n",
              "      <td>https://www.gazeta.ru/social/2018/02/06/116393...</td>\n",
              "      <td>Басманный районный суд Москвы вечером 6 феврал...</td>\n",
              "      <td>«Фигуранты дела могут давить на свидетелей»</td>\n",
              "      <td>Суд арестовал на два месяца четверых экс-чинов...</td>\n",
              "      <td>2018-02-06 21:21:14</td>\n",
              "    </tr>\n",
              "    <tr>\n",
              "      <th>3</th>\n",
              "      <td>https://www.gazeta.ru/business/2013/06/21/5388...</td>\n",
              "      <td>Как повлияло вступление в ВТО на конкурентносп...</td>\n",
              "      <td>«С последних традиционно «отжимают» больше»</td>\n",
              "      <td>Мнения предпринимателей по поводу вступления в...</td>\n",
              "      <td>2013-06-21 17:43:50</td>\n",
              "    </tr>\n",
              "    <tr>\n",
              "      <th>4</th>\n",
              "      <td>https://www.gazeta.ru/culture/2014/12/27/a_636...</td>\n",
              "      <td>К третьему сезону «Голос» на Первом канале ста...</td>\n",
              "      <td>Третий «Голос» за Градского</td>\n",
              "      <td>На Первом канале завершился третий сезон шоу «...</td>\n",
              "      <td>2014-12-27 01:10:01</td>\n",
              "    </tr>\n",
              "  </tbody>\n",
              "</table>\n",
              "</div>\n",
              "      <button class=\"colab-df-convert\" onclick=\"convertToInteractive('df-a5ac0c65-590f-4fa7-bc04-83c81e469e66')\"\n",
              "              title=\"Convert this dataframe to an interactive table.\"\n",
              "              style=\"display:none;\">\n",
              "        \n",
              "  <svg xmlns=\"http://www.w3.org/2000/svg\" height=\"24px\"viewBox=\"0 0 24 24\"\n",
              "       width=\"24px\">\n",
              "    <path d=\"M0 0h24v24H0V0z\" fill=\"none\"/>\n",
              "    <path d=\"M18.56 5.44l.94 2.06.94-2.06 2.06-.94-2.06-.94-.94-2.06-.94 2.06-2.06.94zm-11 1L8.5 8.5l.94-2.06 2.06-.94-2.06-.94L8.5 2.5l-.94 2.06-2.06.94zm10 10l.94 2.06.94-2.06 2.06-.94-2.06-.94-.94-2.06-.94 2.06-2.06.94z\"/><path d=\"M17.41 7.96l-1.37-1.37c-.4-.4-.92-.59-1.43-.59-.52 0-1.04.2-1.43.59L10.3 9.45l-7.72 7.72c-.78.78-.78 2.05 0 2.83L4 21.41c.39.39.9.59 1.41.59.51 0 1.02-.2 1.41-.59l7.78-7.78 2.81-2.81c.8-.78.8-2.07 0-2.86zM5.41 20L4 18.59l7.72-7.72 1.47 1.35L5.41 20z\"/>\n",
              "  </svg>\n",
              "      </button>\n",
              "      \n",
              "  <style>\n",
              "    .colab-df-container {\n",
              "      display:flex;\n",
              "      flex-wrap:wrap;\n",
              "      gap: 12px;\n",
              "    }\n",
              "\n",
              "    .colab-df-convert {\n",
              "      background-color: #E8F0FE;\n",
              "      border: none;\n",
              "      border-radius: 50%;\n",
              "      cursor: pointer;\n",
              "      display: none;\n",
              "      fill: #1967D2;\n",
              "      height: 32px;\n",
              "      padding: 0 0 0 0;\n",
              "      width: 32px;\n",
              "    }\n",
              "\n",
              "    .colab-df-convert:hover {\n",
              "      background-color: #E2EBFA;\n",
              "      box-shadow: 0px 1px 2px rgba(60, 64, 67, 0.3), 0px 1px 3px 1px rgba(60, 64, 67, 0.15);\n",
              "      fill: #174EA6;\n",
              "    }\n",
              "\n",
              "    [theme=dark] .colab-df-convert {\n",
              "      background-color: #3B4455;\n",
              "      fill: #D2E3FC;\n",
              "    }\n",
              "\n",
              "    [theme=dark] .colab-df-convert:hover {\n",
              "      background-color: #434B5C;\n",
              "      box-shadow: 0px 1px 3px 1px rgba(0, 0, 0, 0.15);\n",
              "      filter: drop-shadow(0px 1px 2px rgba(0, 0, 0, 0.3));\n",
              "      fill: #FFFFFF;\n",
              "    }\n",
              "  </style>\n",
              "\n",
              "      <script>\n",
              "        const buttonEl =\n",
              "          document.querySelector('#df-a5ac0c65-590f-4fa7-bc04-83c81e469e66 button.colab-df-convert');\n",
              "        buttonEl.style.display =\n",
              "          google.colab.kernel.accessAllowed ? 'block' : 'none';\n",
              "\n",
              "        async function convertToInteractive(key) {\n",
              "          const element = document.querySelector('#df-a5ac0c65-590f-4fa7-bc04-83c81e469e66');\n",
              "          const dataTable =\n",
              "            await google.colab.kernel.invokeFunction('convertToInteractive',\n",
              "                                                     [key], {});\n",
              "          if (!dataTable) return;\n",
              "\n",
              "          const docLinkHtml = 'Like what you see? Visit the ' +\n",
              "            '<a target=\"_blank\" href=https://colab.research.google.com/notebooks/data_table.ipynb>data table notebook</a>'\n",
              "            + ' to learn more about interactive tables.';\n",
              "          element.innerHTML = '';\n",
              "          dataTable['output_type'] = 'display_data';\n",
              "          await google.colab.output.renderOutput(dataTable, element);\n",
              "          const docLink = document.createElement('div');\n",
              "          docLink.innerHTML = docLinkHtml;\n",
              "          element.appendChild(docLink);\n",
              "        }\n",
              "      </script>\n",
              "    </div>\n",
              "  </div>\n",
              "  "
            ]
          },
          "metadata": {},
          "execution_count": 5
        }
      ]
    },
    {
      "cell_type": "markdown",
      "source": [
        "В качестве основы для обучения моделей будет использовать столбец с саммари статей, так как он отражает общую суть материалов, но при этом значительно короче, а значит обучение будет "
      ],
      "metadata": {
        "id": "ZpU_G5Ur5_Qs"
      }
    },
    {
      "cell_type": "code",
      "source": [
        "text_lengths = df['text'].apply(len)\n",
        "summary_lengths = df['summary'].apply(len)\n",
        "\n",
        "print(f'Средняя длина текста статьи - {np.average(text_lengths):.0f} слов.')\n",
        "print(f'Средняя длина саммари - {np.average(summary_lengths):.0f} слов.')"
      ],
      "metadata": {
        "colab": {
          "base_uri": "https://localhost:8080/"
        },
        "id": "3YPB28WB7T5N",
        "outputId": "fa170c37-f592-4a79-8640-81777f0e560e"
      },
      "execution_count": 6,
      "outputs": [
        {
          "output_type": "stream",
          "name": "stdout",
          "text": [
            "Средняя длина текста статьи - 4519 слов.\n",
            "Средняя длина саммари - 312 слов.\n"
          ]
        }
      ]
    },
    {
      "cell_type": "code",
      "source": [
        "morpher = MorphAnalyzer()\n",
        "stopwords = set(get_stop_words(\"ru\"))\n",
        "punkt = set(string.punctuation)\n",
        "\n",
        "def preprocess_txt(line, morpher=morpher, sw=stopwords, punkt=punkt):\n",
        "    spls = \"\".join(i for i in line.strip() if i not in punkt).split()\n",
        "    spls = [morpher.parse(i.lower())[0].normal_form for i in spls]\n",
        "    spls = [i for i in spls if i not in sw and i != \"\"]\n",
        "    return spls\n",
        "\n",
        "df['preprocessed_summary'] = df['summary'].apply(preprocess_txt)\n",
        "df.head()"
      ],
      "metadata": {
        "colab": {
          "base_uri": "https://localhost:8080/",
          "height": 337
        },
        "id": "yJ4ZupGYjTeB",
        "outputId": "bc8fa9a3-0fe9-4cce-f002-9b77fc2b366a"
      },
      "execution_count": 7,
      "outputs": [
        {
          "output_type": "execute_result",
          "data": {
            "text/plain": [
              "                                                 url  \\\n",
              "0  https://www.gazeta.ru/financial/2011/11/30/385...   \n",
              "1  https://www.gazeta.ru/business/2013/01/24/4939...   \n",
              "2  https://www.gazeta.ru/social/2018/02/06/116393...   \n",
              "3  https://www.gazeta.ru/business/2013/06/21/5388...   \n",
              "4  https://www.gazeta.ru/culture/2014/12/27/a_636...   \n",
              "\n",
              "                                                text  \\\n",
              "0  «По итогам 2011 года чистый отток может состав...   \n",
              "1  Российское подразделение интернет-корпорации G...   \n",
              "2  Басманный районный суд Москвы вечером 6 феврал...   \n",
              "3  Как повлияло вступление в ВТО на конкурентносп...   \n",
              "4  К третьему сезону «Голос» на Первом канале ста...   \n",
              "\n",
              "                                         title  \\\n",
              "0               Прогноз не успевает за оттоком   \n",
              "1                        Google закончил поиск   \n",
              "2  «Фигуранты дела могут давить на свидетелей»   \n",
              "3  «С последних традиционно «отжимают» больше»   \n",
              "4                  Третий «Голос» за Градского   \n",
              "\n",
              "                                             summary                date  \\\n",
              "0  В 2011 году из России уйдет $80 млрд, считают ... 2011-11-30 18:33:39   \n",
              "1  Юлия Соловьева, экс-директор холдинга «Профмед... 2013-01-24 18:20:09   \n",
              "2  Суд арестовал на два месяца четверых экс-чинов... 2018-02-06 21:21:14   \n",
              "3  Мнения предпринимателей по поводу вступления в... 2013-06-21 17:43:50   \n",
              "4  На Первом канале завершился третий сезон шоу «... 2014-12-27 01:10:01   \n",
              "\n",
              "                                preprocessed_summary  \n",
              "0  [2011, россия, уйти, 80, млрд, считать, минэко...  \n",
              "1  [юлия, соловьёв, эксдиректор, холдинг, «профме...  \n",
              "2  [суд, арестовать, месяц, четверо, эксчиновник,...  \n",
              "3  [мнение, предприниматель, повод, вступление, в...  \n",
              "4  [канал, завершиться, сезон, шоу, «голос», побе...  "
            ],
            "text/html": [
              "\n",
              "  <div id=\"df-cba08314-8845-416c-8780-de5ba939a332\">\n",
              "    <div class=\"colab-df-container\">\n",
              "      <div>\n",
              "<style scoped>\n",
              "    .dataframe tbody tr th:only-of-type {\n",
              "        vertical-align: middle;\n",
              "    }\n",
              "\n",
              "    .dataframe tbody tr th {\n",
              "        vertical-align: top;\n",
              "    }\n",
              "\n",
              "    .dataframe thead th {\n",
              "        text-align: right;\n",
              "    }\n",
              "</style>\n",
              "<table border=\"1\" class=\"dataframe\">\n",
              "  <thead>\n",
              "    <tr style=\"text-align: right;\">\n",
              "      <th></th>\n",
              "      <th>url</th>\n",
              "      <th>text</th>\n",
              "      <th>title</th>\n",
              "      <th>summary</th>\n",
              "      <th>date</th>\n",
              "      <th>preprocessed_summary</th>\n",
              "    </tr>\n",
              "  </thead>\n",
              "  <tbody>\n",
              "    <tr>\n",
              "      <th>0</th>\n",
              "      <td>https://www.gazeta.ru/financial/2011/11/30/385...</td>\n",
              "      <td>«По итогам 2011 года чистый отток может состав...</td>\n",
              "      <td>Прогноз не успевает за оттоком</td>\n",
              "      <td>В 2011 году из России уйдет $80 млрд, считают ...</td>\n",
              "      <td>2011-11-30 18:33:39</td>\n",
              "      <td>[2011, россия, уйти, 80, млрд, считать, минэко...</td>\n",
              "    </tr>\n",
              "    <tr>\n",
              "      <th>1</th>\n",
              "      <td>https://www.gazeta.ru/business/2013/01/24/4939...</td>\n",
              "      <td>Российское подразделение интернет-корпорации G...</td>\n",
              "      <td>Google закончил поиск</td>\n",
              "      <td>Юлия Соловьева, экс-директор холдинга «Профмед...</td>\n",
              "      <td>2013-01-24 18:20:09</td>\n",
              "      <td>[юлия, соловьёв, эксдиректор, холдинг, «профме...</td>\n",
              "    </tr>\n",
              "    <tr>\n",
              "      <th>2</th>\n",
              "      <td>https://www.gazeta.ru/social/2018/02/06/116393...</td>\n",
              "      <td>Басманный районный суд Москвы вечером 6 феврал...</td>\n",
              "      <td>«Фигуранты дела могут давить на свидетелей»</td>\n",
              "      <td>Суд арестовал на два месяца четверых экс-чинов...</td>\n",
              "      <td>2018-02-06 21:21:14</td>\n",
              "      <td>[суд, арестовать, месяц, четверо, эксчиновник,...</td>\n",
              "    </tr>\n",
              "    <tr>\n",
              "      <th>3</th>\n",
              "      <td>https://www.gazeta.ru/business/2013/06/21/5388...</td>\n",
              "      <td>Как повлияло вступление в ВТО на конкурентносп...</td>\n",
              "      <td>«С последних традиционно «отжимают» больше»</td>\n",
              "      <td>Мнения предпринимателей по поводу вступления в...</td>\n",
              "      <td>2013-06-21 17:43:50</td>\n",
              "      <td>[мнение, предприниматель, повод, вступление, в...</td>\n",
              "    </tr>\n",
              "    <tr>\n",
              "      <th>4</th>\n",
              "      <td>https://www.gazeta.ru/culture/2014/12/27/a_636...</td>\n",
              "      <td>К третьему сезону «Голос» на Первом канале ста...</td>\n",
              "      <td>Третий «Голос» за Градского</td>\n",
              "      <td>На Первом канале завершился третий сезон шоу «...</td>\n",
              "      <td>2014-12-27 01:10:01</td>\n",
              "      <td>[канал, завершиться, сезон, шоу, «голос», побе...</td>\n",
              "    </tr>\n",
              "  </tbody>\n",
              "</table>\n",
              "</div>\n",
              "      <button class=\"colab-df-convert\" onclick=\"convertToInteractive('df-cba08314-8845-416c-8780-de5ba939a332')\"\n",
              "              title=\"Convert this dataframe to an interactive table.\"\n",
              "              style=\"display:none;\">\n",
              "        \n",
              "  <svg xmlns=\"http://www.w3.org/2000/svg\" height=\"24px\"viewBox=\"0 0 24 24\"\n",
              "       width=\"24px\">\n",
              "    <path d=\"M0 0h24v24H0V0z\" fill=\"none\"/>\n",
              "    <path d=\"M18.56 5.44l.94 2.06.94-2.06 2.06-.94-2.06-.94-.94-2.06-.94 2.06-2.06.94zm-11 1L8.5 8.5l.94-2.06 2.06-.94-2.06-.94L8.5 2.5l-.94 2.06-2.06.94zm10 10l.94 2.06.94-2.06 2.06-.94-2.06-.94-.94-2.06-.94 2.06-2.06.94z\"/><path d=\"M17.41 7.96l-1.37-1.37c-.4-.4-.92-.59-1.43-.59-.52 0-1.04.2-1.43.59L10.3 9.45l-7.72 7.72c-.78.78-.78 2.05 0 2.83L4 21.41c.39.39.9.59 1.41.59.51 0 1.02-.2 1.41-.59l7.78-7.78 2.81-2.81c.8-.78.8-2.07 0-2.86zM5.41 20L4 18.59l7.72-7.72 1.47 1.35L5.41 20z\"/>\n",
              "  </svg>\n",
              "      </button>\n",
              "      \n",
              "  <style>\n",
              "    .colab-df-container {\n",
              "      display:flex;\n",
              "      flex-wrap:wrap;\n",
              "      gap: 12px;\n",
              "    }\n",
              "\n",
              "    .colab-df-convert {\n",
              "      background-color: #E8F0FE;\n",
              "      border: none;\n",
              "      border-radius: 50%;\n",
              "      cursor: pointer;\n",
              "      display: none;\n",
              "      fill: #1967D2;\n",
              "      height: 32px;\n",
              "      padding: 0 0 0 0;\n",
              "      width: 32px;\n",
              "    }\n",
              "\n",
              "    .colab-df-convert:hover {\n",
              "      background-color: #E2EBFA;\n",
              "      box-shadow: 0px 1px 2px rgba(60, 64, 67, 0.3), 0px 1px 3px 1px rgba(60, 64, 67, 0.15);\n",
              "      fill: #174EA6;\n",
              "    }\n",
              "\n",
              "    [theme=dark] .colab-df-convert {\n",
              "      background-color: #3B4455;\n",
              "      fill: #D2E3FC;\n",
              "    }\n",
              "\n",
              "    [theme=dark] .colab-df-convert:hover {\n",
              "      background-color: #434B5C;\n",
              "      box-shadow: 0px 1px 3px 1px rgba(0, 0, 0, 0.15);\n",
              "      filter: drop-shadow(0px 1px 2px rgba(0, 0, 0, 0.3));\n",
              "      fill: #FFFFFF;\n",
              "    }\n",
              "  </style>\n",
              "\n",
              "      <script>\n",
              "        const buttonEl =\n",
              "          document.querySelector('#df-cba08314-8845-416c-8780-de5ba939a332 button.colab-df-convert');\n",
              "        buttonEl.style.display =\n",
              "          google.colab.kernel.accessAllowed ? 'block' : 'none';\n",
              "\n",
              "        async function convertToInteractive(key) {\n",
              "          const element = document.querySelector('#df-cba08314-8845-416c-8780-de5ba939a332');\n",
              "          const dataTable =\n",
              "            await google.colab.kernel.invokeFunction('convertToInteractive',\n",
              "                                                     [key], {});\n",
              "          if (!dataTable) return;\n",
              "\n",
              "          const docLinkHtml = 'Like what you see? Visit the ' +\n",
              "            '<a target=\"_blank\" href=https://colab.research.google.com/notebooks/data_table.ipynb>data table notebook</a>'\n",
              "            + ' to learn more about interactive tables.';\n",
              "          element.innerHTML = '';\n",
              "          dataTable['output_type'] = 'display_data';\n",
              "          await google.colab.output.renderOutput(dataTable, element);\n",
              "          const docLink = document.createElement('div');\n",
              "          docLink.innerHTML = docLinkHtml;\n",
              "          element.appendChild(docLink);\n",
              "        }\n",
              "      </script>\n",
              "    </div>\n",
              "  </div>\n",
              "  "
            ]
          },
          "metadata": {},
          "execution_count": 7
        }
      ]
    },
    {
      "cell_type": "markdown",
      "source": [
        "Создадим модели на основе массива предобработанных саммари статей."
      ],
      "metadata": {
        "id": "J7nuD1UC-7zs"
      }
    },
    {
      "cell_type": "code",
      "source": [
        "window_size = 5\n",
        "vector_size = 300\n",
        "\n",
        "modelW2V = Word2Vec(sentences=df['preprocessed_summary'], \n",
        "                    size=vector_size, window=window_size, \n",
        "                    min_count=1)\n",
        "modelFT = FastText(sentences=df['preprocessed_summary'], \n",
        "                   size=vector_size, window=window_size, \n",
        "                   min_count=1)"
      ],
      "metadata": {
        "id": "8lNH_49Fl_q0"
      },
      "execution_count": 8,
      "outputs": []
    },
    {
      "cell_type": "markdown",
      "source": [
        "Обучим модели и создадим функцию для получения ближайших статей с помощью построенных моделей."
      ],
      "metadata": {
        "id": "kCYCoShjNP0T"
      }
    },
    {
      "cell_type": "code",
      "source": [
        "w2v_index = annoy.AnnoyIndex(vector_size, 'angular')\n",
        "ft_index = annoy.AnnoyIndex(vector_size, 'angular')\n",
        "\n",
        "index_map = {}\n",
        "counter = 0\n",
        "\n",
        "\n",
        "for i in range(len(df['preprocessed_summary'])):\n",
        "    n_w2v = 0\n",
        "    n_ft = 0\n",
        "    index_map[i] = df['text'][i]\n",
        "    \n",
        "    vector_w2v = np.zeros(vector_size)\n",
        "    vector_ft = np.zeros(vector_size)\n",
        "    for word in df['preprocessed_summary'][i]:\n",
        "        if word in modelW2V.wv:\n",
        "            vector_w2v += modelW2V.wv[word]\n",
        "            n_w2v += 1\n",
        "        if word in modelFT.wv:\n",
        "            vector_ft += modelFT.wv[word]\n",
        "            n_ft += 1\n",
        "    if n_w2v > 0:\n",
        "        vector_w2v = vector_w2v / n_w2v\n",
        "    if n_ft > 0:\n",
        "        vector_ft = vector_ft / n_ft\n",
        "    w2v_index.add_item(i, vector_w2v)\n",
        "    ft_index.add_item(i, vector_ft)\n",
        "\n",
        "\n",
        "w2v_index.build(10)\n",
        "ft_index.build(10)"
      ],
      "metadata": {
        "colab": {
          "base_uri": "https://localhost:8080/"
        },
        "id": "Y6QA9btqmGry",
        "outputId": "0c269d01-92ad-425c-c06b-728f259cf743"
      },
      "execution_count": 9,
      "outputs": [
        {
          "output_type": "execute_result",
          "data": {
            "text/plain": [
              "True"
            ]
          },
          "metadata": {},
          "execution_count": 9
        }
      ]
    },
    {
      "cell_type": "code",
      "source": [
        "def get_response(question, index, model, index_map, nn=5):\n",
        "    question = preprocess_txt(question)\n",
        "    vector = np.zeros(300)\n",
        "    norm = 0\n",
        "    for word in question:\n",
        "        if word in model.wv:\n",
        "            vector += model.wv[word]\n",
        "            norm += 1\n",
        "    if norm > 0:\n",
        "        vector = vector / norm\n",
        "    answers = index.get_nns_by_vector(vector, nn, )\n",
        "    return [index_map[i] for i in answers]"
      ],
      "metadata": {
        "id": "DmMO2TJkjdTN"
      },
      "execution_count": 10,
      "outputs": []
    },
    {
      "cell_type": "code",
      "source": [
        "TEXT = \"Футбольные фанаты устроили беспорядки\""
      ],
      "metadata": {
        "id": "VAXdbsXpmMwm"
      },
      "execution_count": 11,
      "outputs": []
    },
    {
      "cell_type": "markdown",
      "source": [
        "Результаты поиска ближайших статей с помощью Word2Vec..."
      ],
      "metadata": {
        "id": "VH_98E2DNu0d"
      }
    },
    {
      "cell_type": "code",
      "source": [
        "get_response(TEXT, w2v_index, modelW2V, index_map)"
      ],
      "metadata": {
        "colab": {
          "base_uri": "https://localhost:8080/"
        },
        "id": "yNJ4xyx7kbBB",
        "outputId": "6ef8fe59-5627-41e1-de3b-567086751fb3"
      },
      "execution_count": 12,
      "outputs": [
        {
          "output_type": "execute_result",
          "data": {
            "text/plain": [
              "['Юниорский турнир по вольной борьбе, посвященный памяти трагически погибшего призера Олимпийских игр Бесика Кудухова, был омрачен массовой дракой. Стычка началась между одним из борцов и тренером его соперника. Как ни странно, инициатором выступил умудренный опытом наставник – сперва он начал кидаться в оппонента своего подопечного предметом, похожим на мяч для американского футбола, а когда тот пинком вынес данный «снаряд» за пределы настила, подошел к молодому человеку вплотную для серьезного разговора. Представитель тренерского штаба был недоволен судейским решением, но почему-то решил высказать это не арбитру, а атлету. После пары ласковых слов, которых на записи, к счастью, не слышно, специалист неожиданно нанес спортсмену хук слева, а затем и справа. Борец только пошатнулся и не успел ничем ответить — тут же между ним и агрессором вырос принявшийся разнимать оппонентов представитель охраны. Однако не тут-то было. Сзади к пострадавшему подкрался его соперник по поединку и несколько раз ударил по лицу – тоже безнаказанно. Стражи правопорядка успели вклиниваться между агрессивной связкой учитель-ученик и борцом ровно в тот момент, когда тот уже получил пару ударов, но еще не нанес ни одного в ответ. От такого зрелища публика мгновенно завелась и за пару секунд высыпала на настил, однако затем явно замешкалась, не зная, вершить справедливость или нет, а если да, то в отношении кого. В зале уже все смешалось – и соперники-борцы, и не в меру боевитый тренер куда-то исчезли. «Успокойтесь! Все сядьте на места! Будьте мужчинами! Мы проводим соревнования памяти великого борца! Не позорьте наш вид спорта», — вещал строгий женский голос откуда-то из динамиков арены. Немного потоптавшись на месте, толпа начала постепенно расходиться, все еще недовольно ропща. Вскоре в кадр вернулись оба борца, и судя по всему, схватка была продолжена. Тем не менее осадок от этого инцидента было уже ничем не загладить: грязная драка на таком мероприятии вызвала огромное возмущение у многих любителей единоборств, в том числе и у главных лиц Федерации спортивной борьбы России (ФСБР). В частности, президент ФСБР Михаил Мамиашвили пообещал участникам потасовки максимально жесткое наказание. «Нужно искоренить фундаментально подобные явления. Должна быть самая жесткая реакция, наказание должно быть серьезным. Конкретно по этому эпизоду дисциплинарным комитетом федерации будет вынесено объективно жесткое решение. Но только этой мерой данную проблему не решить. Сейчас во главу угла должна быть поставлена работа с руководителями региональных федераций и территориальных министерств. Спортсмены и тренеры же не существуют в безвоздушном пространстве, их командируют на соревнования регионы, которые должны в процессе принимать самое активное участие», — приводит слова Мамиашвили «Р-Спорт». Главный тренер сборной России по вольной борьбе Дзамболат Тедеев призвал наказать драчунов длительной дисквалификацией. «Моя позиция по этому вопросу всегда была однозначна — от спортсменов, которые не могут себя вести на ковре подобающим образом, надо избавляться путем дисквалификации. Такие пусть перепрофилируются и идут драться в бои без правил — в борцовской семье им делать нечего. Они не просто нас позорят, они еще и межнациональную рознь разжигают. Произошедшее снова показало — когда у борцов все хорошо, они никому не нужны, а когда такие вещи происходят, мы во всех СМИ», — цитирует Тедеева ТАСС. Представитель ГУ МВД Краснодарского края уже заверил, что по факту драки будет проведена проверка: «По данному факту в полицию заявления не поступало, но ГУ МВД назначена проверка по выявленным в сети видеоматериалам. Будут установлены все причины и обстоятельства, дана оценка действиям причастных лиц». Бесик Кудухов , в честь которого были организованы данные соревнования, собравшие около 200 сильнейших спортсменов со всей России, являлся бронзовым призером Олимпийских игр в Пекине-2008 и обладателем серебра Лондона-2012. Помимо этих достижений, российский борец осетинского происхождения четыре года подряд становился чемпионом мира – с 2007 по 2011-й, а также один раз выиграл чемпионат Европы и дважды – Кубок мира. 29 декабря 2013 года борец погиб в ДТП на федеральной трассе под Армавиром. Ему было всего 27 лет. Три года спустя Международный олимпийский комитет (МОК) объявил, что в допинг-пробе Кудухова нашли запрещенное вещество, но индийский атлет Йогешвар Дутт, завоевавший на Играх в Лондоне бронзу, заявил, что не хочет получать серебро вместо погибшего россиянина. С другими новостями и материалами вы можете ознакомиться на странице хроники, а также в группах отдела спорта в социальных сетях Facebook и «Вконтакте» .',\n",
              " 'Предстоящий вечер боев смешанного стиля под эгидой самой известной и престижной организации ММА UFC 223 в Нью-Йорке еще до начала поединков стал самым скандальным в истории не только промоушена, но и всего вида спорта. И это даже несмотря на отмену главного события вечера — боя между россиянином Хабиб ом Нурмагомедовым и американцем Тони Фергюсоном за титул чемпиона мира в легком весе. Их ожидаемое уже четвертый год сражение срывается в четвертый раз, причем каждый из бойцов становился причиной отмены поединка дважды. На этот раз виноват Тони Фергюсон, который, споткнувшись во время официального мероприятия в преддверии боя, повредил связку колена. Заменой американцу стал другой боец смешанного стиля из США Макс Холлоуэй , имеющий солидный послужной список из 19-ти побед в 22-х боях в ММА. Нурмагомедов и Холлоуэй высказываются друг о друге подчеркнуто корректно, и в преддверии их поединка внимание общественности переключилось на другие ситуации и инциденты, коих оказалось с избытком. Всю кашу заварил Хабиб, который за пару дней до боя с Холлоуэем устроил конфликт в коридоре гостиницы, где проживают спортсмены с другим российским бойцом ММА Артемом Лобов ым. Лобов, известный как друг и спарринг-партнер Макгрегор а, восемь месяцев назад в прямом эфире в своем инстаграме раскритиковал Нурмагомедова за его нападки на ирландца. «Хабиб снимался уже шесть раз, у него там чуть-чуть что-то заболело, в заднице или где-то еще. Так кто здесь у нас «чикен» («курица» в переводе с английского — «Газета.Ru»)? Кто боится, кто ссыкун? Сниматься он будет каждый раз. Что тут еще говорить?» — заявил тогда Лобов. Имеющий четыре поражения в шести боях в UFC Артем должен был биться в андеркарде вечера UFC 223, а потому находился в Бруклине. Команда Нурмагомедова во главе с самим бойцом «поймала» Лобова в момент, когда из его окружения вместе с ним находился только один человек. Прижав Лобова к стене, Хабиб схватил его за шею и спросил: «Ты говорил, что я ссыкун?», на что получил внезапный ответ: «Я не говорил такого». «Как не говорил? Больше не говори такие вещи», — настоятельно заявил Нурмагомедов и ощутимо шлепнул Лобова по голове, что очень напоминало пощечину. Видео со стычкой попало в сеть. Владелец аккаунта Russia Wrestling Team разместил в инстаграме нарезку обращения Лобова к фанатам, которая время от времени прерывается фрагментами разборок с Нурмагомедовым в коридоре гостиницы. Иногда лучше молчать ♦Видео можно скачать в нашем телеграмме. Ссылка в профиле♦  @khabib_nurmagomedov @zubairatukhugov @islam_makhachev #khabibnurmagomedov#khabib#хабиб#хабибнурмагомедов#лобов#артемлобов#ufc#mma#wrestling#ufc223 Публикация от Wrestling | ММА | UFC (@russia_wrestling_team) 3 Апр 2018 в 6:12 PDT Сам Лобов позже заявил в интервью, что не видит другого решения конфликта, кроме как встречи с Нурмагомедовым один на один, причем за пределами восьмиугольника. Ситуация, очевидно, крайне не понравилась Макгрегору, воспринявшему «наезд» на своего друга как личное оскорбление. И если все это изначально было задумано ради раскрутки вечера боев и потенциальной встречи Хабиба с Конором в будущем (тот факт, что Нурмагомедов не предъявлял Лобову претензий раньше, хотя они неоднократно пересекались с момента «прямого эфира» Артема, косвенно указывает на это), ситуация вышла из-под контроля. Макгрегор прилетел в Нью-Йорк, хотя президент UFC Дэйна Уайт ранее говорил, что ирландца не будет на UFC 223, но самого вечера боев ирландец не дождался. Он вместе со своей командой атаковал отъезжавший из «Барклайз Центра» автобус с бойцами «красного угла» предстоящего вечера, вроде бы желая разобраться с Нурмагомедовым. Макгрегор вел себя крайне агрессивно и в итоге разбил лобовое стекло автобуса, бросив в него железный стул. В результате действий Ноториуса (прозвище бойца) пострадали два участника UFC 223 Майк Кьеза и Рэй Борг, причем последний в итоге не был допущен до своего поединка из-за повреждения роговицы глаза. Также в сети проскочила информация, что осколки задели американку Роуз Намаюнас , которая также участвует в предстоящем вечере. Изначально сообщалось, что атака была по сути бесцельной, так как Нурмагомедова вроде бы не было внутри автобуса, но впоследствии выяснилось, что он там все-таки присутствовал, только из его команды рядом находился лишь менеджер. Нурмагомедов не вышел к ирландцу, после появилась информация, что он со своей командой ждет Конора в отеле, а сам Хабиб адресовал оппоненту следующее заявление: «Я хохотал внутри. Ты разбил окно? Зачем? Залазь внутрь. Если ты настоящий бандит, почему ты не забрался внутрь? Нью-Йорк — место с богатой бандитской историей. Хочешь пообщаться? Скажи, где ты. Я приду, без проблем». После дебоша у автобуса Макгрегор скрылся, Уайт назвал эту выходку «худшим, что случилось с UFC за все время его существования», а полиция Нью-Йорка открыла дело и занялась поисками ирландского бойца. В итоге Ноториус сам явился в полицейский участок, где был задержан пока без предъявления обвинения, так как полицейский департамент еще изучает подробности случившегося. Также стало известно, что UFC уже снял с вечера Лобова, так как тот был одним из участников нападения на автобус с Нурмагомедовым. В данный момент перспективы Артема в организации кажутся крайне печальными, так как, по мнению специалистов, его до сих пор не уволили из UFC за слабые результаты только вследствие протекции ирландского чемпиона. С другими новостями, материалами и статистикой вы можете ознакомиться на странице бокса и ММА , а также в группах отдела спорта в социальных сетях Facebook и «Вконтакте» .',\n",
              " 'Матч 2-го тура чемпионата России по футболу между «Ростовом» и московским «Спартаком» закончился скандалом. И дело не в голе экс-спартаковца Александра Зуева в ворота своей бывшей команды уже в добавленное время, который принес ростовчанам ничью (2:2). Вскоре после окончания встречи в социальных сетях начали появляться сообщения фанатов красно-белых, в которых говорилось, что их не выпускают с гостевой трибуны. Один из болельщиков «Спартака» Николай Сурин позднее опубликовал в своем твиттер-аккаунте видео с места событий. На ролике видно, как сотрудники ОМОНа врываются в толпу со столичными фанатами и начинают избивать людей резиновыми дубинками. «Заканчивается матч, все спокойно, болельщики идут в подтрибунку — в зону, где расположены буфеты и лестница для выхода на улицу. Понимаю, что очередь на выход растянулась метров на 100 вперед, а в самом ее начале огромная толпа, народ стоит плотно, как в час-пик. Проходит 10 минут, 15 минут. Люди начинают спрашивать у полицейских и стюардов, когда нас начнут выпускать со стадиона», — описал Сурин начало конфликта в интервью «Чемпионат.com». В чемпионате России существуют практика, когда болельщики гостевого сектора покидают стадион позднее, чтобы избежать конфронтации с фанатами соперника за пределами арены. Однако матч закончился ближе к полуночи, поэтому многие спешили уйти как можно быстрее. На еще одном видео из твиттера Сурина присутствуют кадры, как фанаты «Спартака» толпой наваливаются на кордон безопасности из стюардов, выкрикивая фразу «Один за всех и все за одного!». Конфликт со стюардами арены в Ростове-на-Дону и стал катализатором беспорядков, которые происходили позднее. По словам Сурина, представители ОМОНа били даже лежачих. «Спустя какое-то время начинается небольшая заварушка: кто-то машет руками, толкает друг друга. Дальше происходит следующее: неожиданно со спины в толпу влетают 30-40 омоновцев — с дубинками, в шлемах — и начинают всех расталкивать. Люди падают, друга друга сбивают с ног, бьют людей дубинками и электрошокерами — досталось даже лежащим», — добавил он. Произошедшее длилось, как сообщил фанат «Спартака», около 30-40 секунд. После стычки людей начали отпускать со стадиона, и через 45 минут после финального свистка гостевой сектор был пуст. Некоторые фанаты, находившиеся в других частях трибуны, и вовсе не увидели конфликта с ОМОНом. В среде болельщиков красно-белых допускают, что в толпе искали людей, которые во время матча использовали пиротехнику. С этим якобы связана и задержка с выходом со стадиона. Эту версию подтвердила в своем заявлении Российская премьер-лига (РПЛ). Согласно информации на сайте РПЛ, полиция провела операцию по выявлению наиболее активных нарушителей. А болельщики, использовавшие пиротехнику, были задержаны. В ходе операции другие фанаты «Спартака» попытались отбить задержанных, из-за чего завязалась стычка. Нарушители были доставлены в отделения полиции. По данным мэрии Ростова-на-Дону, задержаны восемь человек. Что касается пострадавших, то известно, что один обратился за медицинской помощью. В Российском футбольном союзе ( РФС ) пока не отреагировали на случившееся в официальном заявлении, однако представитель организации сообщил, что в ближайшее время последуют разбирательства эпизода с участием фанатов «Спартака», поскольку «такая ситуация на стадионах не должна повториться». «В организации матча участвуют клуб, полиция и РПЛ. Они должны делать все, чтобы игра проходила в комфортных для болельщиков условиях. При этом клубы проходят сертификацию безопасности, и если они не соответствует критериям, то не должны быть допущены к выступлению в чемпионате. Всем сторонам необходимо работать с фанатами, пресекать неправомерные действия. Но и реакция на нарушения должны быть адекватной. Мы надеемся, что РПЛ разберется в произошедшем в Ростове-на-дону», — заверили в РФС. Депутат Госдумы и член исполкома РФС Игорь Лебедев призвал фанатов красно-белых к официальному обращению, чтобы организация могла сделать запрос в МВД. «Как член комитета РФС по безопасности и работе с болельщиками жду обращения от фанатов «Спартака» с фактами нарушений со стороны ОМОНа для последующего запроса в органы МВД с просьбой проверить законность действий и наказать виновных», — написал Лебедев в твиттере. Что касается правовой оценки действий сотрудников ОМОНа, то в Росгвардии в беседе со Sports.ru отказались комментировать произошедшее до появления официальной информации от ведомства.',\n",
              " 'Печальная новость пришла из Ивановской области, где в одном из кафе города Тейково в ночь на 24 февраля был застрелен бывший боец ММА Ахмед Гасанов, представлявший один из местных клубов смешанных единоборств. Трагедия произошла в одном из кафе-шашлычных, где во время празднования Дня защитнка Отечества разгорелся конфликт с участием сразу нескольких человек. По словам очевидцев, один из противников достал пистолет и начал стрелять. Сразу несколько пуль попали в 30-летнего Гасанова, у которого при медицинском освидетельствовании были обнаружены огнестрельные ранения головы, туловища и конечностей. Также предполагается, что в конфликте пострадал еще один человек, получивший ранение, но официально о других пострадавших не сообщается. Стрелок скрылся на автомобиле, и сейчас его ищут правоохранительные органы. По данному факту уже возбуждено дело об убийстве. «Был убит экс-боец нашей команды, запомним его как бесстрашного и добродушного парня. Хотим добавить, что не нужно лезть в приключения, они иногда доводят до не стоящих последствий. Берегите себя, ведь вас любят друзья и семья. Если хочется драться, то деритесь на ринге», — рассказали изданию «Иваново37» в клубе MMA, где занимался Гасанов. Напомним, что в последнее время в российских смешанных единоборствах скандальные события случаются одно за другим, правда, они, скорее, до сих пор относились к обычной, а не криминальной хронике. Так, накануне чемпион UFC Хабиб Нурмагомедов в своем инстаграме возмутился тем, что в Дагестане прошла постановка спектакля «Охота на мужчин», потребовав у властей Республики разобраться в происшедшем. «Почему власть Дагестана молчит, где депутаты народного собрания, где главы районов, где заместители и сами министры? Что вы все молчите, они назвали этот спектакль «Охотой на мужчин». Это ведь прямое оскорбление нас, или вы думаете, что это ваши отцовские места и кресла? Будьте мужчинами, хоть кто-нибудь выскажитесь, — написал боец. — Почему все молчат и поддакивают этой порнухе в центре города, или вы хотите, чтобы люди вышли на улицу? Не надо нас провоцировать и унижать, всему есть предел. Скажите мне, закон нашей страны одобряет спектакль, где голые мужчины и женщины целуются в центре города? Почему закон не работает? И кто вообще за эту порнографию ответит? Мой совет правительству Дагестана, чтобы провели расследование, и организаторы понесли наказание по закону и извинились перед народом, и, чтобы впредь больше такого не повторилось, чтобы мероприятия такого рода контролировались на уровне министерств и правительства Республики. И хочу обратиться к правительству Дагестана, если вы думаете, что все закончится на постах в соцсетях, то вы ошибаетесь, примите меры вовремя». В итоге постановщик спектакля, а также актеры были завалены в личных соцсетях угрозами и вынуждены были принести извинения, а ситуацию даже прокомментировал пресс-секретарь президента страны Владимира Путина Дмитрий Песков. «Сила нашего государства как раз в его многонациональности и многоконфессиональности. И, естественно, в разных субъектах есть свои национальные традиции, которые, конечно, нельзя не учитывать. Трудно говорить о том, что это все нужно кодифицировать, юридически оформить», – сказал Песков. Ранее в очередную сканальную историю попал другой боец Александр Емельяненко , ныне представляющий грозненский клуб «Ахмат». Проводя мастер-класс 23 февраля, спортсмен выплеснул негатив на человека, ассистировавшего ему при демонстрации ухода от захвата шеи. Емельяненко-младшему не понравилось, что партнер слишком сильно потянул его за шею, и после короткого диалога знаменитый боец дал тому подзатыльник. «Ты не виси... Не надо так говорить, хорошо? Дома так будешь с женой», – сказал Емельяненко своему ассистенту в том эпизоде. Другие новости и материалы можно посмотреть на странице хроники , а также в группах отдела спорта в социальных сетях Facebook и «Вконтакте» .',\n",
              " \"В среду вечером в Санкт-Петербурге около 30 человек напали на посетителей ресторана McDonald's неподалеку от станции метро «Московская». Как сообщают в местной полиции, группа молодчиков «на почве внезапно возникших личных неприязненных отношений избила троих граждан 1980—1981 годов рождения, выходцев из Северо-Кавказского региона, которые с различными травмами были госпитализированы». По горячим следам полицейским удалось задержать шестерых участников драки. Все они жители Петербурга. «В настоящее время в данном конфликте признаков межнациональной розни не усматривается, — заявили в полиции. — В отношении задержанных возбуждено уголовное дело по статье «хулиганство». «Свидетели, работники «Макдоналдса», говорят, что толпа появилась внезапно, лица у них были закрыты капюшонами, звучали выстрелы из травматического оружия, звон стекол, они нападали на всех подряд, — рассказал «Газете.Ru» источник в правоохранительных органах Петербурга. «Инцидент произошел на летней площадке, — рассказала «Газете.Ru» Татьяна Смирнова , менеджер ресторана. — Наши сотрудники сразу же вызвали полицию и скорую помощь». По словам сотрудников ресторана, на террасе началась паника, когда туда ворвались молодые люди. Они принялись избивать посетителей, бросили дымовую шашку, разбили витрину заведения. Нападение длилось минут 10, потом нападавшие рассеялись в близлежащих дворах». По данным собеседника, двоим задержанным по 16 лет, остальным от 22 до 24. Изначально полицейские составили на них административные протоколы за «хулиганство» и «появление в общественном месте в нетрезвом виде». Однако позднее административная мера сменилась уголовной. Троим пострадавшим 21—22 года. Один зарегистрирован в Петербурге, двое — в населенных пунктах Дагестана. По данным «Газеты.Ru», все они находятся в больнице им. Костюшко. Им диагностировали перелом носа со смещением костей, перелом лобной кости, закрытую черепно-мозговую травму и ушибы мозга. Один из них до сих пор в реанимации в тяжелом состоянии. Состояние двух других медики расценивают как удовлетворительное. На сайте болельщиков футбольного клуба «Анжи» утверждается, что потерпевшие были из числа петербургских фанатов дагестанской команды. Они ждали автобус, отправлявшийся в Москву на квалификационный матч Лиги Европы «Анжи» — «АЗ Алкмаар» (Нидерланды). У фанатов дагестанского клуба информация о количестве нападавших отличается от официальных данных МВД. «По свидетельствам очевидцев, примерно в 21.00 16 болельщиков «Анжи», проживающих в Санкт-Петербурге, собрались возле ресторана McDonald's у станции метро «Московская», — сообщают болельщики. — К 21.20, когда автобус подъехал к стоянке, из соседних дворов выбежали около 70—80 молодых людей, которые принялись избивать болельщиков махачкалинцев». По версии фанатов, нападение было совершено и на автобус, один из водителей получил легкое ранение. «Неизвестный в маске и с оружием в руках подошел к автобусу, на котором планировался выезд, и совершил два выстрела в боковые стекла, а также шесть выстрелов в лобовое стекло. По словам водителя, он чудом успел увернуться от выстрелов и лечь на пол, однако второй водитель все же получил легкое ранение и был госпитализирован», — утверждают они. После инцидента болельщики «Анжи» в составе 13 человек в сопровождение полиции все же выехали в Москву. По информации «Газеты.Ru», полицейские исследовали записи с видеокамер, установленных у станции метро. Камеры запечатлели лица бегущих молодых людей. Сейчас в полиции пытаются идентифицировать их личности, используя банк данных околофутбольных хулиганов. Не исключено, что нападение на болельщиков «Анжи» было местью за избиение петербургских фанатов в Махачкале 19 августа после матча «Анжи» — «Зенит». Об этом инциденте в тот же день сообщил объединенный сайт болельщиков «Зенита» «Ландскрона»: «Матч видели все. Полторы сотни петербуржцев поддерживали «Зенит» от начала и до конца. А когда камеры выключились и фанаты стали покидать сектор, полицейские оттащили двоих зенитовцев в непросматриваемый угол под трибунами. Там их ждали люди в масках и черных футболках. Наших парней попросту молча забили дубинками и ударами электрошока. Позже кто-то из командиров «карателей» заметил, что им не понравилась какая-то символика и заряды». Однако руководитель службы безопасности РФПЛ Александр Мейтин заявил «Газете.Ru» , что никаких инцидентов с избиением в Махачкале не было. «Игра прошла организовано и без происшествий, — сказал он. — У нас нет информации об избиении петербургских болельщиков. Мы разговаривали и с представителями «Зенита» , и с представителями «Анжи», и никаких подобных фактов выявлено не было». В МВД также опровергли сообщения о нападении на болельщиков «Анжи». Драка в Петербурге может иметь значительные последствия для всего фанатского движения. Матч «Анжи» — «АЗ Алкмаар», который состоится на московском стадионе «Локомотив» в четверг, должны посетить около 5 тысяч болельщиков дагестанской команды. Кроме того, московские и петербургские фанаты также собираются прийти на этот матч, чтобы поболеть «против «Анжи». Не исключены новые инциденты: болельщики «Анжи» на форумах и в гостевых книгах прямо говорят, что им «объявлена война». «Эту лавочку так называемых фанатов пора прикрывать, иначе они доведут страну до межнационального конфликта, — считает источник «Газеты.Ru» в МВД. — Один ударил, второй взялся за нож, третий за топор, четвертый пистолет принес, пятый — автомат. Так начинаются войны. Поэтому на уровне Госдумы , изменений Уголовного кодекса, нужны жесткие меры к этим товарищам вне зависимости от национальности. Написал не то в интернете — добро пожаловать на пять лет в колонию». Косвенно об этом же заявил и секретарь Общественного совета при петербургском управлении МВД Андрей Константинов. В четверг он встретился с руководителем петербургского полицейского главка Сергеем Умновым и заявил, что межнационального мотива в конфликте не было и что необходимо принимать меры на федеральном уровне. «Петербургская полиция столкнулась с очередным проявлением так называемого фанатского хулиганства, — отметил Константинов. — Безусловно, такие инциденты являются негативной стороной отечественного футбола и бросают тень на все российское сообщество футбольных болельщиков. В этой связи я соглашусь с позицией МВД России о необходимости принятия законодательных мер на федеральном уровне для эффективного противодействия фанатскому хулиганству». В свою очередь, официальный представитель правительства Дагестана призвал на помощь РФС и спецслужбы. «В России футбол из фактора, объединяющего людей, превратился в фактор разъединяющий, — сказал в эфире РСН пресс-секретарь представительства республики Дагестан при президенте РФ Махач Вагабов. — РФС, а также руководство стадионов, а также спецслужбы должны что-то делать. До хорошего культивирование этих настроений не доведет. Это не только с «Анжи» связано. И если не нагнать внутренние войска, дойдет до крайностей», - отметил он.\"]"
            ]
          },
          "metadata": {},
          "execution_count": 12
        }
      ]
    },
    {
      "cell_type": "markdown",
      "source": [
        "... и с помощью FastText."
      ],
      "metadata": {
        "id": "z0UC445yN4po"
      }
    },
    {
      "cell_type": "code",
      "source": [
        "get_response(TEXT, ft_index, modelFT, index_map)"
      ],
      "metadata": {
        "colab": {
          "base_uri": "https://localhost:8080/"
        },
        "id": "6rVmMukxt8hq",
        "outputId": "a34555af-5dca-481f-c3a5-000c3fc4ff93"
      },
      "execution_count": 13,
      "outputs": [
        {
          "output_type": "execute_result",
          "data": {
            "text/plain": [
              "['«Подвиги» болельщиков московского «Спартака» в Жилине во время матча Лиги чемпионов против местного клуба не остались незамеченными УЕФА. И теперь руководители этой организации всерьез опасаются, что в следующую среду что-то подобное могут устроить и фанаты ЦСКА на матче в Праге против местной «Спарты». Напомним, что фанаты красно-былых устроили пиротехническое шоу, забросав поле файерами, после чего несколько человек выбежали на поле. Как результат, начало встречи было отложено, а теперь «Спартак» ждут санкции со стороны УЕФА. Причем в худшем случае команде даже грозит исключение из Лиги Европы. Решение по этому делу будет принято 16 декабря, ровно за сутки до жеребьевки следующего раунда Лиги Европы, куда «Спартак» попал, заняв третье место в своей группе в Лиге чемпионов. Ранее работавший в «Спартаке» директор по безопасности РФПЛ Александр Мейтин так прокомментировал «Газете.Ru» инцидент в Жилине: «Основная проблема заключается в том, что принимающая сторона не смогла обеспечить безопасность проведения матча. Вы видели на картинке, что рядом даже не было полицейских. Может, это и хорошо, но тогда нужно усиление со стороны стюардов. Но их там было от силы 14–15. Я знаю, что до встречи представители «Спартака» проинформировали делегата матча и принимающую сторону о возможной провокации. Ведь было известно, что помимо организованных болельщиков «Спартака» в Жилину приехали представители фанатских движений Сербии, Польши, Греции. Некоторые болельщики приехали для выдвижения неких политических лозунгов. Повторюсь, все стороны были проинформированы об этом, но безопасность обеспечена не была. На входах стояло пять-шесть стюардов, которых болельщики «Спартака» тут же смели и прошли на сектор. Стоит отметить, что и передвижение между секторами осуществлялось свободно. А та решетка, которая отделяла болельщиков двух команд, была легко сдвигаема, и люди из сектора «Жилины» без проблем перешли в гостевой. Причем эти болельщики были в масках и имели при себе пиротехнические средства. Хотя служба безопасности не должна была пускать на трибуны болельщиков с дымовыми шашками и др. По моему мнению, в произошедшем гораздо больше виновата принимающая сторона, а не «Спартак». Отмечу, что на домашних матчах «Спартака» в ЛЧ не было даже файера, потому что со стороны красно-белых и правоохранительных органов должным образом принимались меры по обеспечению безопасности». Явно напуганные произошедшим, руководители УЕФА в пятницу направили в ПФК ЦСКА письмо с настоятельными рекомендациями для армейских болельщиков, которые планируют поддержать команду в Праге. Тем более что те же фанаты «Спартака» в 1990-м (первый евровыезд в истории спартаковского движения, ознаменовавшийся драками за пределами стадиона), 1999-м годах уже «отличились» в Праге. А последний раз поклонники красно-белых «зажгли» в 2007 так, что очередной визит уже другого российского клуба почти наверняка приведет к каким-либо неприятным инцидентам. Европейский футбольный союз еще раз призывает болельщиков соблюдать порядок и организованность, не пользоваться пиротехникой, а также избегать проявлений расизма. В противном случае клубу грозят серьезные санкции (вплоть до лишения его права участия в европейских турнирах). В итоге на сайте ПФК ЦСКА появилось обращение к болельщикам. «Мы знаем, как страстно и красочно вы можете поддерживать команду. Давайте сделаем так, чтобы действия игроков на поле, а ваши — на трибунах оставляли во время матчей только яркие и приятные впечатления. И если мы действительно переживаем за команду — не дадим ни единого повода поставить под сомнение ее участие в европейском турнире»! Матч заключительного тура группового этапа Лиги Европы между пражской «Спартой» и ЦСКА пройдет 15 декабря. Другие новости и результаты можно посмотреть на странице Лиги чемпионов.',\n",
              " 'Юниорский турнир по вольной борьбе, посвященный памяти трагически погибшего призера Олимпийских игр Бесика Кудухова, был омрачен массовой дракой. Стычка началась между одним из борцов и тренером его соперника. Как ни странно, инициатором выступил умудренный опытом наставник – сперва он начал кидаться в оппонента своего подопечного предметом, похожим на мяч для американского футбола, а когда тот пинком вынес данный «снаряд» за пределы настила, подошел к молодому человеку вплотную для серьезного разговора. Представитель тренерского штаба был недоволен судейским решением, но почему-то решил высказать это не арбитру, а атлету. После пары ласковых слов, которых на записи, к счастью, не слышно, специалист неожиданно нанес спортсмену хук слева, а затем и справа. Борец только пошатнулся и не успел ничем ответить — тут же между ним и агрессором вырос принявшийся разнимать оппонентов представитель охраны. Однако не тут-то было. Сзади к пострадавшему подкрался его соперник по поединку и несколько раз ударил по лицу – тоже безнаказанно. Стражи правопорядка успели вклиниваться между агрессивной связкой учитель-ученик и борцом ровно в тот момент, когда тот уже получил пару ударов, но еще не нанес ни одного в ответ. От такого зрелища публика мгновенно завелась и за пару секунд высыпала на настил, однако затем явно замешкалась, не зная, вершить справедливость или нет, а если да, то в отношении кого. В зале уже все смешалось – и соперники-борцы, и не в меру боевитый тренер куда-то исчезли. «Успокойтесь! Все сядьте на места! Будьте мужчинами! Мы проводим соревнования памяти великого борца! Не позорьте наш вид спорта», — вещал строгий женский голос откуда-то из динамиков арены. Немного потоптавшись на месте, толпа начала постепенно расходиться, все еще недовольно ропща. Вскоре в кадр вернулись оба борца, и судя по всему, схватка была продолжена. Тем не менее осадок от этого инцидента было уже ничем не загладить: грязная драка на таком мероприятии вызвала огромное возмущение у многих любителей единоборств, в том числе и у главных лиц Федерации спортивной борьбы России (ФСБР). В частности, президент ФСБР Михаил Мамиашвили пообещал участникам потасовки максимально жесткое наказание. «Нужно искоренить фундаментально подобные явления. Должна быть самая жесткая реакция, наказание должно быть серьезным. Конкретно по этому эпизоду дисциплинарным комитетом федерации будет вынесено объективно жесткое решение. Но только этой мерой данную проблему не решить. Сейчас во главу угла должна быть поставлена работа с руководителями региональных федераций и территориальных министерств. Спортсмены и тренеры же не существуют в безвоздушном пространстве, их командируют на соревнования регионы, которые должны в процессе принимать самое активное участие», — приводит слова Мамиашвили «Р-Спорт». Главный тренер сборной России по вольной борьбе Дзамболат Тедеев призвал наказать драчунов длительной дисквалификацией. «Моя позиция по этому вопросу всегда была однозначна — от спортсменов, которые не могут себя вести на ковре подобающим образом, надо избавляться путем дисквалификации. Такие пусть перепрофилируются и идут драться в бои без правил — в борцовской семье им делать нечего. Они не просто нас позорят, они еще и межнациональную рознь разжигают. Произошедшее снова показало — когда у борцов все хорошо, они никому не нужны, а когда такие вещи происходят, мы во всех СМИ», — цитирует Тедеева ТАСС. Представитель ГУ МВД Краснодарского края уже заверил, что по факту драки будет проведена проверка: «По данному факту в полицию заявления не поступало, но ГУ МВД назначена проверка по выявленным в сети видеоматериалам. Будут установлены все причины и обстоятельства, дана оценка действиям причастных лиц». Бесик Кудухов , в честь которого были организованы данные соревнования, собравшие около 200 сильнейших спортсменов со всей России, являлся бронзовым призером Олимпийских игр в Пекине-2008 и обладателем серебра Лондона-2012. Помимо этих достижений, российский борец осетинского происхождения четыре года подряд становился чемпионом мира – с 2007 по 2011-й, а также один раз выиграл чемпионат Европы и дважды – Кубок мира. 29 декабря 2013 года борец погиб в ДТП на федеральной трассе под Армавиром. Ему было всего 27 лет. Три года спустя Международный олимпийский комитет (МОК) объявил, что в допинг-пробе Кудухова нашли запрещенное вещество, но индийский атлет Йогешвар Дутт, завоевавший на Играх в Лондоне бронзу, заявил, что не хочет получать серебро вместо погибшего россиянина. С другими новостями и материалами вы можете ознакомиться на странице хроники, а также в группах отдела спорта в социальных сетях Facebook и «Вконтакте» .',\n",
              " 'Матч 2-го тура чемпионата России по футболу между «Ростовом» и московским «Спартаком» закончился скандалом. И дело не в голе экс-спартаковца Александра Зуева в ворота своей бывшей команды уже в добавленное время, который принес ростовчанам ничью (2:2). Вскоре после окончания встречи в социальных сетях начали появляться сообщения фанатов красно-белых, в которых говорилось, что их не выпускают с гостевой трибуны. Один из болельщиков «Спартака» Николай Сурин позднее опубликовал в своем твиттер-аккаунте видео с места событий. На ролике видно, как сотрудники ОМОНа врываются в толпу со столичными фанатами и начинают избивать людей резиновыми дубинками. «Заканчивается матч, все спокойно, болельщики идут в подтрибунку — в зону, где расположены буфеты и лестница для выхода на улицу. Понимаю, что очередь на выход растянулась метров на 100 вперед, а в самом ее начале огромная толпа, народ стоит плотно, как в час-пик. Проходит 10 минут, 15 минут. Люди начинают спрашивать у полицейских и стюардов, когда нас начнут выпускать со стадиона», — описал Сурин начало конфликта в интервью «Чемпионат.com». В чемпионате России существуют практика, когда болельщики гостевого сектора покидают стадион позднее, чтобы избежать конфронтации с фанатами соперника за пределами арены. Однако матч закончился ближе к полуночи, поэтому многие спешили уйти как можно быстрее. На еще одном видео из твиттера Сурина присутствуют кадры, как фанаты «Спартака» толпой наваливаются на кордон безопасности из стюардов, выкрикивая фразу «Один за всех и все за одного!». Конфликт со стюардами арены в Ростове-на-Дону и стал катализатором беспорядков, которые происходили позднее. По словам Сурина, представители ОМОНа били даже лежачих. «Спустя какое-то время начинается небольшая заварушка: кто-то машет руками, толкает друг друга. Дальше происходит следующее: неожиданно со спины в толпу влетают 30-40 омоновцев — с дубинками, в шлемах — и начинают всех расталкивать. Люди падают, друга друга сбивают с ног, бьют людей дубинками и электрошокерами — досталось даже лежащим», — добавил он. Произошедшее длилось, как сообщил фанат «Спартака», около 30-40 секунд. После стычки людей начали отпускать со стадиона, и через 45 минут после финального свистка гостевой сектор был пуст. Некоторые фанаты, находившиеся в других частях трибуны, и вовсе не увидели конфликта с ОМОНом. В среде болельщиков красно-белых допускают, что в толпе искали людей, которые во время матча использовали пиротехнику. С этим якобы связана и задержка с выходом со стадиона. Эту версию подтвердила в своем заявлении Российская премьер-лига (РПЛ). Согласно информации на сайте РПЛ, полиция провела операцию по выявлению наиболее активных нарушителей. А болельщики, использовавшие пиротехнику, были задержаны. В ходе операции другие фанаты «Спартака» попытались отбить задержанных, из-за чего завязалась стычка. Нарушители были доставлены в отделения полиции. По данным мэрии Ростова-на-Дону, задержаны восемь человек. Что касается пострадавших, то известно, что один обратился за медицинской помощью. В Российском футбольном союзе ( РФС ) пока не отреагировали на случившееся в официальном заявлении, однако представитель организации сообщил, что в ближайшее время последуют разбирательства эпизода с участием фанатов «Спартака», поскольку «такая ситуация на стадионах не должна повториться». «В организации матча участвуют клуб, полиция и РПЛ. Они должны делать все, чтобы игра проходила в комфортных для болельщиков условиях. При этом клубы проходят сертификацию безопасности, и если они не соответствует критериям, то не должны быть допущены к выступлению в чемпионате. Всем сторонам необходимо работать с фанатами, пресекать неправомерные действия. Но и реакция на нарушения должны быть адекватной. Мы надеемся, что РПЛ разберется в произошедшем в Ростове-на-дону», — заверили в РФС. Депутат Госдумы и член исполкома РФС Игорь Лебедев призвал фанатов красно-белых к официальному обращению, чтобы организация могла сделать запрос в МВД. «Как член комитета РФС по безопасности и работе с болельщиками жду обращения от фанатов «Спартака» с фактами нарушений со стороны ОМОНа для последующего запроса в органы МВД с просьбой проверить законность действий и наказать виновных», — написал Лебедев в твиттере. Что касается правовой оценки действий сотрудников ОМОНа, то в Росгвардии в беседе со Sports.ru отказались комментировать произошедшее до появления официальной информации от ведомства.',\n",
              " 'Московская погода и смог от пожаров спутали все карты не только футболистам, но и хоккеистам. Столичным футбольным клубам пришлось переносить свои матчи, запланированные на воскресенье, так пришлось поступить и одноименным хоккейным клубам. Днем ранее стало известно, что в связи с погодными условиями тренерский штаб «Спартака» внес коррективы в план предсезонной подготовки. Запланированные на 10 и 13 августа контрольные матчи красно-белых с «Витязем» и «Амуром» отменены, а в понедельник вечером команда Милоша Ржиги вылетает в Екатеринбург, где пробудет ближайшие две недели. Скорее всего именно на товарищеском турнире «Каменный цветок», который пройдет с 16 по 20 августа в Екатеринбурге, состоится дебют именитого чешского голкипера Доминика Гашека в составе «Спартака». Помимо «Спартака» в Екатеринбурге сыграют «Автомобилист» (Екатеринбург), «Сибирь» (Новосибирск), «Трактор» (Челябинск) и «Югра» (Ханты-Мансийск). К турниру красно-белые будут готовиться на базе в Курганове, где не так давно проводил летний лагерь форвард «Детройта» Павел Дацюк. На сбор не полетит форвард Кирилл Князев , который заболел ангиной, сообщает «Спорт-Экспресс». Ранее «Спартак» уже испытывал проблемы из-за смога, так как в Москву не могли прибыть вовремя Милош Ржига с легионерами команды. Красно-белые не единственные, кто решил покинуть столицу. Тоже самое решили сделать динамовцы. «Трактор» готов тренироваться Клуб отправится в один из российских регионов продолжать подготовку к стартующему 11 сентября чемпионату КХЛ. Причиной такого решения стал столичный смог, который в эти дни опустился на Москву, сообщает Sports.ru. Это не единственная новость из стана бело-голубых. Оказывается, московское «Динамо» заключило пробный контракт с нападающим Артёмом Черновым. В сезонах-2006/2007 и 2007/2008 годов форвард выступал в составе ХК МВД, но затем по медицинским показаниям был вынужден пропустить два хоккейных сезона. В настоящее время врачи не препятствуют возвращению Артема Чернова на лед, но вопрос с полноценным контрактом будет обсуждаться после окончания предсезонной подготовки команды, сообщает официальный сайт клуба В субботу ХК «Трактор» вернулся в Челябинск со сбора в белорусском Пинске. А в воскресенье хоккеисты получили один день отдыха. С понедельника команда будет проводить по две тренировки в день. Следующая контрольная встреча назначена на 13 августа с екатеринбургским «Автомобилистом». А 16 августа челябинцы стартуют на турнире «Каменный цветок» матчем все с тем же «Автомобилистом», сообщает официальный сайт клуба Главный тренер «Трактора» Андрей Сидоренко прокомментировал итоги первого предсезонного сбора своей команды, который прошел в белорусском Пинске с 25 июля по 6 августа. «Мы выполнили всю намеченную программу. Все хоккеисты работали с большим желанием. Хочу отметить всю команду. Ни к кому нет претензий. Быстро нашел общий язык с новичками? Конечно. Никаких проблем с взаимопониманием у нас не было и быть не могло. Евгений Царегородцев скоро дебютирует в «Автомобилисте» И дальше мы будем продолжать много общаться. Не пожалели о том, что поехали в Белоруссию, а не, например, в Финляндию или Швейцарию? Ни разу не пожалел. Во-первых, в Пинске созданы шикарные условия для работы и восстановления. К тому же это недорого. Во-вторых, в Белоруссии безвизовый режим, что очень удобно для приглашения игроков для просмотра, – приводит его слова официальный сайт «Трактора». – Основной направленностью сбора была физическая подготовка. В то же время нам нужно было привести игроков в примерно одинаковую форму, так как на сбор они приехали все-таки в разном состоянии. Я хочу сказать, что нагрузки мы давали постепенно, ничего не форсировали. Показательно, что на сборе никто из игроков не получил травму – значит мы нагружали их правильно. Исключение – мелкие травмы, полученные, например, при игре в футбол. Мы все делали постепенно. Но этого мало. Нам нужно еще работать и работать. Не забывайте, мы строим новую команду и игрокам нужно время, чтобы привыкнуть в новым требованиям». Экс-голкипер «Авангарда», который в понедельник проведет открытую тренировку в Омске, Евгений Царегородцев прибыл в Екатеринбург и в ближайшие дни подпишет контракт с «Автомобилистом». Об этом сообщил «Спорт-Экспрессу» агент хоккеиста Виктор Артемкин. Дебют Царегородцева в «Автомобилисте» состоится во время предсезонного турнира, который пройдет в Екатеринбурге с 16 по 20 августа. Он почетно дебютирует за новую команду вместе с великим Доминатором. Словацкий форвард Юрай Шимек покинул рижское «Динамо» , сообщает Icebox.lv. У 22-летнего игрока был просмотровый контракт, и руководство рижского клуба решило не подписывать с ним полноценное соглашение. Ожидается, что Шимек вернется в клуб АХЛ «Норфолк». Форвард сборной Словакии Томаш Булик перешел в «Югру». Он подписал двухлетний контракт с новым клубом, сообщает Hokej.sk. Другие новости можно посмотреть на странице КХЛ',\n",
              " 'Стали известны подробности случившегося конфликта между двумя мужчинами на детском хоккейном матче команд 2008 года рождения «Северная Звезда» — «Дмитров», в ходе которого родитель одного из хоккеиста применил травматическое оружие против другого. Стороны рассказали о том, что стало причиной потасовки, а также отметили, что их натянутые взаимоотношения продолжаются уже на протяжении нескольких месяцев. Так, Михаил Кузнецов, отец одного из хоккеистов «Дмитров», который нанес выстрел в голову своему обидчику, заявил, что стал жертвой провокации. При этом мужчина принес извинения руководству и сотрудникам клубов, а также всем присутствующим зрителям и спортсменам на игре, которые стали свидетелями драки. «Самое главное — этот досадный эпизод возник из-за моих личных проблем, которые не имеют даже косвенного отношения к хоккейным делам. Люди угрожали моей жизни и спровоцировали срыв. Первая драка возникла в ледовом дворце. В тот момент матч нашей команды «Дмитров» 2008 года еще не начался, играли младшие хоккеисты. Второй конфликт произошел на улице рядом с ареной Спортивной школы №2. Далее все случилось очень быстро, но в памяти запечатлелось расплывчато. Меня только что отпустили из ОВД. Я плохо себя чувствую», — цитирует Кузнецова «Спорт-Экспресс». Рассказывая о своем самочувствии, мужчина пожаловался на боли в сердце. В частности он подчеркнул, что во время нахождения в отделении полиции рядом с ним находились сотрудники скорой помощи. «У меня был сердечный приступ и стенокардия. Давление подскочило до 200. Такой стресс испытал впервые в жизни. Даже сейчас трудно говорить», — заявил он. Интересно, что, по его словам, ранее свой травматический пистолет «Оса», из которого он выстрелил в голову другому мужчине, он никогда не использовал. Стрелявший отметил, что решение оформить лицензию на ношение оружия было ошибочным. К слову, Кузнецов заявил, что полиция завела на него уголовное дело. Однако в связи с тем, что потерпевший отказался от госпитализации, дело будет проходит по статье 213 Уголовного кодекса Российской Федерации — «Хулиганство». «Что будет дальше? Все в правовом порядке, установленным законом. Знаю, что «Хулиганство» — одна из статей в деле футболистов Александра Кокорина и Павла Мамаева. Но нам до них далеко. В отличие от них я был абсолютно трезв, полиция это зафиксировала. Конфликт будем улаживать мирно», — отметил Кузнецов. Раскрывать суть всего конфликта, который происходит между двумя родителями, Михаил не стал, лишь подчеркнув, что связи с хоккеем нет никакой. Это подтвердила и его супруга Анна Кузнецова , заявившая, что разногласия между мужчинами, которые продолжаются уже несколько месяцев, связаны с бизнесом. «Он длится между ними на протяжении трех месяцев. Один родитель вымогал из другого деньги, связанные с бизнесом. Вчера была очередная провокация, они длились в течение трех месяцев. К сожалению, это произошло в таком месте... Он просто не выдержал», — приводит слова жены стрелявшего мужчины «Москва 24». Получивший же пулевое ранение Алексей Емельянов рассказал о том, что другой родитель стал критиковать его сына, и подчеркнул, что предлагал ему выяснить отношения на словах. Однако, по его словам, Михаил Кузнецов стал применять физическую силу, после чего применил травматическое оружие. «У него были претензии к моему сыну. Он мне на него пожаловался. Я подошел к нему и попросил пообщаться со мной, на что он начал меня толкать. Завязалась потасовка. После нее я пошел прямо в кафе, а он вышел из раздевалки, взял пистолет и выстрелил в меня», — сказал Емельянов. Напомним, что происшествие произошло 9 февраля. Незадолго до старта матча «Северная Звезда» — «Дмитров» двое отцов хоккеистов поругались. Как отмечают очевидцы, инцидент был спровоцирован супругой Кузнецова, после чего ее муж оскорбил и толкнул Емельянова, произнеся фразу: «Твои часики тикают. Я тебя заказал!» После этого мужчины отправились в сторону буфета, где Кузнецов произвел выстрел в голову Емельянову. Пострадавший упал и потерял много крови, однако пуля прошла по касательной. Врачи оказали ему первую помощь, замотав голову бинтом, и доставили в больницу, откуда мужчина по своей инициативе выписался. Стрелявший же самостоятельно сдался сотрудникам полиции, которые отвезли его в один из московских участков ОВД. На следующий день он был освобожден из-под ареста. Другие новости и материалы можно посмотреть на странице хроники , а также в группах отдела спорта в социальных сетях Facebook и «Вконтакте» .']"
            ]
          },
          "metadata": {},
          "execution_count": 13
        }
      ]
    },
    {
      "cell_type": "markdown",
      "source": [
        "Как видим тематика статей в большинстве случаев довольно близка к изначальному запросу, что позволяет утверждать о довольно неплохом качестве полученных моделей."
      ],
      "metadata": {
        "id": "-bPpFVpsN_FG"
      }
    }
  ]
}